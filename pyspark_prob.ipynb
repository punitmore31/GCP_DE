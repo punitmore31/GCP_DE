{
 "cells": [
  {
   "cell_type": "markdown",
   "id": "c4359188",
   "metadata": {},
   "source": [
    "pip install pyspark\n",
    "pip install dask\n",
    "pip install pyarrow"
   ]
  },
  {
   "cell_type": "code",
   "execution_count": 2,
   "id": "8d4ffd85",
   "metadata": {},
   "outputs": [
    {
     "name": "stdout",
     "output_type": "stream",
     "text": [
      "\n",
      "\n",
      "/* HI THIS IS COMMENT PART*/\n",
      "\n",
      "THIS IS NON COMMENT PART\n",
      "\n",
      "\n",
      "\n",
      "\n",
      "\n",
      "\n",
      "THIS IS NON COMMENT PART\n",
      "\n",
      "\n"
     ]
    }
   ],
   "source": [
    "import re \n",
    "content = \"\"\"\n",
    "\n",
    "/* HI THIS IS COMMENT PART*/\n",
    "\n",
    "THIS IS NON COMMENT PART\n",
    "\n",
    "\"\"\"\n",
    "\n",
    "print(content)\n",
    "content_NEW = re.sub(r'/\\*.*?\\*/', '', content, flags=re.DOTALL)\n",
    "\n",
    "print(content_NEW)\n",
    "\n"
   ]
  },
  {
   "cell_type": "code",
   "execution_count": 3,
   "id": "650f5097",
   "metadata": {},
   "outputs": [
    {
     "ename": "NameError",
     "evalue": "name 'spark' is not defined",
     "output_type": "error",
     "traceback": [
      "\u001b[31m---------------------------------------------------------------------------\u001b[39m",
      "\u001b[31mNameError\u001b[39m                                 Traceback (most recent call last)",
      "\u001b[36mCell\u001b[39m\u001b[36m \u001b[39m\u001b[32mIn[3]\u001b[39m\u001b[32m, line 1\u001b[39m\n\u001b[32m----> \u001b[39m\u001b[32m1\u001b[39m df = \u001b[43mspark\u001b[49m.createDataFrame([(\u001b[33m\"\u001b[39m\u001b[33mjames\u001b[39m\u001b[33m\"\u001b[39m,\u001b[32m48\u001b[39m)])\n",
      "\u001b[31mNameError\u001b[39m: name 'spark' is not defined"
     ]
    }
   ],
   "source": [
    "df = spark.createDataFrame([(\"james\",48)])"
   ]
  }
 ],
 "metadata": {
  "kernelspec": {
   "display_name": "myenv",
   "language": "python",
   "name": "python3"
  },
  "language_info": {
   "codemirror_mode": {
    "name": "ipython",
    "version": 3
   },
   "file_extension": ".py",
   "mimetype": "text/x-python",
   "name": "python",
   "nbconvert_exporter": "python",
   "pygments_lexer": "ipython3",
   "version": "3.11.9"
  }
 },
 "nbformat": 4,
 "nbformat_minor": 5
}
