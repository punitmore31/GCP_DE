{
 "cells": [
  {
   "cell_type": "code",
   "execution_count": 72,
   "id": "f01a0d0d",
   "metadata": {},
   "outputs": [
    {
     "name": "stdout",
     "output_type": "stream",
     "text": [
      "[{'item_id': 1234, 'name': 'tshirt', 'price': 30000}, {'item_id': 232, 'name': 'shirt', 'price': 300230}]\n",
      "---------------------\n",
      "{'item_id': 1234, 'name': 'tshirt', 'price': 30000}\n"
     ]
    }
   ],
   "source": [
    "import logging\n",
    "import json\n",
    "\n",
    "product = [\n",
    "    {\"item_id\":1234, \"name\": 'tshirt', \"price\" : 30000},\n",
    "    {\"item_id\":232, \"name\": 'shirt', \"price\" : 300230}\n",
    "]\n",
    "\n",
    "print(product)\n",
    "print(\"---------------------\" )\n",
    "print(product[0])\n",
    "\n",
    "if product[0][\"price\"] > 30000:\n",
    "    print(product[0])\n",
    "\n"
   ]
  },
  {
   "cell_type": "code",
   "execution_count": 73,
   "id": "f83cd67f",
   "metadata": {},
   "outputs": [
    {
     "name": "stdout",
     "output_type": "stream",
     "text": [
      "[{'name': 'godi', 'age': 35}, {'name': 'dudi', 'age': 30}, {'name': 'Auis', 'age': 28}, {'name': 'Sca', 'age': 25}, {'name': 'Jndi', 'age': 20}]\n",
      "5\n",
      "<class 'list'>\n",
      "\n"
     ]
    }
   ],
   "source": [
    "people = [\n",
    "    {\"name\": \"Jndi\", \"age\": 20},\n",
    "    {\"name\": \"dudi\", \"age\": 30},\n",
    "    {\"name\": \"Sca\", \"age\": 25},\n",
    "    {\"name\": \"godi\", \"age\": 35},\n",
    "    {\"name\": \"Auis\", \"age\": 28},\n",
    "]\n",
    "\n",
    "sorted_people = sorted(people , key = lambda x: x[\"age\"], reverse=True)\n",
    "print(sorted_people, len(sorted_people), type(sorted_people), sep=\"\\n\", end=\"\\n\\n\",)"
   ]
  },
  {
   "cell_type": "code",
   "execution_count": 74,
   "id": "27f9a4df",
   "metadata": {},
   "outputs": [
    {
     "name": "stdout",
     "output_type": "stream",
     "text": [
      "['a', 'is', 'he', 'is', 'boy', 'and', 'and', 'more', 'good', 'very', 'punit', 'kumar', 'smart', 'intelligent']\n",
      "14\n"
     ]
    }
   ],
   "source": [
    "name = [\"punit\", \"kumar\", \"more\", \"is\", \"a\", \"good\", \"boy\", \"and\", \"he\", \"is\", \"very\", \"smart\", \"and\", \"intelligent\"]\n",
    "sorted_name = sorted(name, key = len)\n",
    "print(sorted_name)\n",
    "print(len(name))"
   ]
  },
  {
   "cell_type": "code",
   "execution_count": 75,
   "id": "fa19c1d9",
   "metadata": {},
   "outputs": [
    {
     "name": "stdout",
     "output_type": "stream",
     "text": [
      "5\n",
      "120\n"
     ]
    }
   ],
   "source": [
    "def factorial(n) -> int:\n",
    "    if n == 0:\n",
    "        return 1\n",
    "    else:\n",
    "        fact = 1\n",
    "        print(n)\n",
    "        for i in range(1,n+1):\n",
    "            fact = fact * i\n",
    "        return fact\n",
    "\n",
    "print(factorial(5))"
   ]
  },
  {
   "cell_type": "code",
   "execution_count": 76,
   "id": "acbc32c1",
   "metadata": {},
   "outputs": [
    {
     "name": "stdout",
     "output_type": "stream",
     "text": [
      "Type of parsed data: <class 'dict'>\n",
      "--------------------\n",
      "User's Name: Alex Doe\n",
      "User's City: Pune\n",
      "First Course: History\n",
      "--------------------\n",
      "Modified user data:\n",
      "{'name': 'Alex Doe', 'age': 23, 'isStudent': True, 'courses': ['History', 'Computer Science', 'Art', 'Mathematics'], 'address': {'city': 'Pune', 'zipcode': '411001'}, 'email': 'alex.doe@example.com'}\n",
      "--------------------\n",
      "Newly generated JSON string:\n",
      "{\n",
      "    \"name\": \"Alex Doe\",\n",
      "    \"age\": 23,\n",
      "    \"isStudent\": true,\n",
      "    \"courses\": [\n",
      "        \"History\",\n",
      "        \"Computer Science\",\n",
      "        \"Art\",\n",
      "        \"Mathematics\"\n",
      "    ],\n",
      "    \"address\": {\n",
      "        \"city\": \"Pune\",\n",
      "        \"zipcode\": \"411001\"\n",
      "    },\n",
      "    \"email\": \"alex.doe@example.com\"\n",
      "}\n"
     ]
    }
   ],
   "source": [
    "import json\n",
    "\n",
    "# The sample JSON data stored as a multi-line string\n",
    "json_string = \"\"\"\n",
    "{\n",
    "  \"name\": \"Alex Doe\",\n",
    "  \"age\": 22,\n",
    "  \"isStudent\": true,\n",
    "  \"courses\": [\n",
    "    \"History\",\n",
    "    \"Computer Science\",\n",
    "    \"Art\"\n",
    "  ],\n",
    "  \"address\": {\n",
    "    \"city\": \"Pune\",\n",
    "    \"zipcode\": \"411001\"\n",
    "  }\n",
    "}\n",
    "\"\"\"\n",
    "\n",
    "# 1. Parse the JSON string into a Python dictionary\n",
    "# The `json.loads()` function (load string) does this conversion.\n",
    "user_data = json.loads(json_string)\n",
    "print(f\"Type of parsed data: {type(user_data)}\")\n",
    "# Output: Type of parsed data: <class 'dict'>\n",
    "print(\"-\" * 20)\n",
    "\n",
    "\n",
    "# 2. Access data from the dictionary\n",
    "# You can access values using their keys.\n",
    "print(f\"User's Name: {user_data['name']}\")\n",
    "print(f\"User's City: {user_data['address']['city']}\") # Accessing a nested value\n",
    "print(f\"First Course: {user_data['courses'][0]}\")   # Accessing an item in a list\n",
    "print(\"-\" * 20)\n",
    "\n",
    "\n",
    "# 3. Modify the data\n",
    "# You can change values, add new key-value pairs, or append to lists.\n",
    "user_data['age'] = 23  # Update a value\n",
    "user_data['email'] = \"alex.doe@example.com\"  # Add a new key-value pair\n",
    "user_data['courses'].append(\"Mathematics\")  # Add an item to the list\n",
    "\n",
    "print(\"Modified user data:\")\n",
    "print(user_data)\n",
    "# Output:\n",
    "# Modified user data:\n",
    "# {'name': 'Alex Doe', 'age': 23, 'isStudent': True, 'courses': ['History', 'Computer Science', 'Art', 'Mathematics'], 'address': {'city': 'Pune', 'zipcode': '411001'}, 'email': 'alex.doe@example.com'}\n",
    "print(\"-\" * 20)\n",
    "\n",
    "\n",
    "# 4. Convert the Python dictionary back to a JSON string\n",
    "# The `json.dumps()` function (dump string) does this.\n",
    "# `indent=4` makes the output nicely formatted and readable (\"pretty-printed\").\n",
    "new_json_string = json.dumps(user_data, indent=4)\n",
    "\n",
    "print(\"Newly generated JSON string:\")\n",
    "print(new_json_string)"
   ]
  },
  {
   "cell_type": "code",
   "execution_count": 77,
   "id": "47e4430d",
   "metadata": {},
   "outputs": [
    {
     "name": "stdout",
     "output_type": "stream",
     "text": [
      "raw json data\n",
      "{\n",
      "    \"employees\" : \"Alex Doe\",\n",
      "    \"address\" : {\n",
      "        \"city\" : \"Pune\",\n",
      "        \"phon\" : 343435454,\n",
      "        \"zipcode\" : \"411001\"\n",
      "    },\n",
      "    \"age\": 30  \n",
      "}\n",
      "--------------------------------------------------------------------------------------------------------------------------------------------\n",
      "{'employees': 'Alex Doe', 'address': {'city': 'Pune', 'phon': 343435454, 'zipcode': '411001'}, 'age': 30}\n",
      "--------------------------------------------------------------------------------------------------------------------------------------------\n",
      "{'employees': 'Punit More', 'address': {'city': 'Pune', 'zipcode': '411001', 'pincode': 411001}, 'age': 30}\n",
      "--------------------------------------------------------------------------------------------------------------------------------------------\n",
      "Newly generated JSON string:\n",
      "{\n",
      "     \"employees\": \"Punit More\",\n",
      "     \"address\": {\n",
      "          \"city\": \"Pune\",\n",
      "          \"zipcode\": \"411001\",\n",
      "          \"pincode\": 411001\n",
      "     },\n",
      "     \"age\": 30\n",
      "}\n"
     ]
    }
   ],
   "source": [
    "print(\"raw json data\")\n",
    "sample_json = '''{\n",
    "    \"employees\" : \"Alex Doe\",\n",
    "    \"address\" : {\n",
    "        \"city\" : \"Pune\",\n",
    "        \"phon\" : 343435454,\n",
    "        \"zipcode\" : \"411001\"\n",
    "    },\n",
    "    \"age\": 30  \n",
    "}'''\n",
    "\n",
    "print(sample_json) \n",
    "print('-------' * 20)\n",
    "\n",
    "user_data = json.loads(sample_json)\n",
    "\n",
    "print(user_data)\n",
    "print('-------' * 20)\n",
    "\n",
    "user_data[\"employees\"] = \"Punit More\"\n",
    "del user_data[\"address\"][\"phon\"]\n",
    "user_data[\"address\"][\"pincode\"] =  411001\n",
    "\n",
    "print(user_data)\n",
    "print('-------' * 20)\n",
    "new_generated_json = json.dumps(user_data,indent=5)\n",
    "print(\"Newly generated JSON string:\")\n",
    "print(new_generated_json)"
   ]
  },
  {
   "cell_type": "code",
   "execution_count": 78,
   "id": "22db4d22",
   "metadata": {},
   "outputs": [
    {
     "name": "stdout",
     "output_type": "stream",
     "text": [
      "<class 'dict'> 2\n",
      "dict_keys(['userProfile', 'product'])\n",
      "dict_values([{'$schema': 'http://json-schema.org/draft-07/schema#', 'title': 'User Profile', 'description': 'A schema for validating a user profile object.', 'type': 'object', 'properties': {'userId': {'description': 'Unique identifier for the user.', 'type': 'integer'}, 'username': {'description': \"The user's public name.\", 'type': 'string', 'minLength': 3}, 'email': {'description': \"The user's email address.\", 'type': 'string', 'format': 'email'}, 'isActive': {'description': 'Flag to indicate if the user account is active.', 'type': 'boolean', 'default': True}}, 'required': ['userId', 'username', 'email']}, {'$schema': 'http://json-schema.org/draft-07/schema#', 'title': 'Product', 'description': 'A schema for validating a product object.', 'type': 'object', 'properties': {'productId': {'description': 'The unique identifier for a product (SKU).', 'type': 'string', 'pattern': '^[A-Z0-9]{3,10}$'}, 'productName': {'description': 'Name of the product.', 'type': 'string'}, 'price': {'description': 'The price of the product.', 'type': 'number', 'exclusiveMinimum': 0}, 'tags': {'description': 'An array of tags for the product.', 'type': 'array', 'items': {'type': 'string'}}}, 'required': ['productId', 'productName', 'price']}])\n"
     ]
    }
   ],
   "source": [
    "import pprint as pp\n",
    "with open('schemas.json', 'r') as file:\n",
    "    schemas = json.load(file)\n",
    "#pp.pprint(schemas)\n",
    "print(type(schemas), len(schemas))\n",
    "pp.pprint(schemas.keys())\n",
    "pp.pprint(schemas.values())\n",
    "\n"
   ]
  },
  {
   "cell_type": "code",
   "execution_count": 79,
   "id": "48786bf2",
   "metadata": {},
   "outputs": [
    {
     "data": {
      "text/plain": [
       "{'$schema': 'http://json-schema.org/draft-07/schema#',\n",
       " 'title': 'User Profile',\n",
       " 'description': 'A schema for validating a user profile object.',\n",
       " 'type': 'object',\n",
       " 'properties': {'userId': {'description': 'Unique identifier for the user.',\n",
       "   'type': 'integer'},\n",
       "  'username': {'description': \"The user's public name.\",\n",
       "   'type': 'string',\n",
       "   'minLength': 3},\n",
       "  'email': {'description': \"The user's email address.\",\n",
       "   'type': 'string',\n",
       "   'format': 'email'},\n",
       "  'isActive': {'description': 'Flag to indicate if the user account is active.',\n",
       "   'type': 'boolean',\n",
       "   'default': True}},\n",
       " 'required': ['userId', 'username', 'email']}"
      ]
     },
     "execution_count": 79,
     "metadata": {},
     "output_type": "execute_result"
    }
   ],
   "source": [
    "#schemas.get(\"userProfile\")\n",
    "\n",
    "schemas.get('userProfile')"
   ]
  },
  {
   "cell_type": "code",
   "execution_count": 80,
   "id": "59f530e1",
   "metadata": {},
   "outputs": [
    {
     "name": "stdout",
     "output_type": "stream",
     "text": [
      "<class 'dict'> 6\n",
      "dict_keys(['departments', 'categories', 'orders', 'products', 'customers', 'order_items'])\n"
     ]
    }
   ],
   "source": [
    "with open('db_schemas.json', 'r') as file:\n",
    "    db_schemas = json.load(file)\n",
    "\n",
    "print(type(db_schemas), len(db_schemas))\n",
    "pp.pprint(db_schemas.keys())\n"
   ]
  },
  {
   "cell_type": "code",
   "execution_count": 81,
   "id": "42d0913d",
   "metadata": {},
   "outputs": [
    {
     "name": "stdout",
     "output_type": "stream",
     "text": [
      "[{'column_name': 'order_id', 'column_position': 1, 'data_type': 'integer'},\n",
      " {'column_name': 'order_date', 'column_position': 2, 'data_type': 'string'},\n",
      " {'column_name': 'customer_id', 'column_position': 3, 'data_type': 'timestamp'},\n",
      " {'column_name': 'order_status', 'column_position': 4, 'data_type': 'string'}]\n"
     ]
    }
   ],
   "source": [
    "orders_list = db_schemas.get('orders')\n",
    "pp.pprint(orders_list)\n"
   ]
  },
  {
   "cell_type": "code",
   "execution_count": 82,
   "id": "925f4e68",
   "metadata": {},
   "outputs": [],
   "source": [
    "# import logging\n",
    "# logging.basicConfig(filename='test.log',logginglevel=logging.INFO,filemode='w',format='%(asctime)s - %(levelname)s - %(message)s')\n",
    "# logging.info(\"This is an info message\")\n",
    "# logging.warning(\"This is a warning message\")\n",
    "# logging.error(\"This is an error message\")   \n",
    "\n",
    "# with open('name.log','w') as file:\n",
    "#     file.write(\"New log entry\\n\")\n"
   ]
  },
  {
   "cell_type": "code",
   "execution_count": 83,
   "id": "c0b30042",
   "metadata": {},
   "outputs": [],
   "source": [
    "import logging\n",
    "logger = logging.getLogger(__name__)\n",
    "logger.setLevel(logging.DEBUG)\n",
    "\n",
    "f = logging.Formatter('%(asctime)s - %(levelname)s - %(message)s')\n",
    "fh = logging.FileHandler('tet.log')\n",
    "fh.setFormatter(f)\n",
    "logger.addHandler(fh)\n",
    "\n",
    "logger.debug(\"This is a debug message\")\n",
    "logger.info(\"This is an info message\")  \n",
    "logger.warning(\"This is a warning message\")"
   ]
  },
  {
   "cell_type": "code",
   "execution_count": 84,
   "id": "100ba2de",
   "metadata": {},
   "outputs": [
    {
     "name": "stdout",
     "output_type": "stream",
     "text": [
      "[{'column_name': 'order_id', 'column_position': 1, 'data_type': 'integer'},\n",
      " {'column_name': 'order_date', 'column_position': 2, 'data_type': 'string'},\n",
      " {'column_name': 'customer_id', 'column_position': 3, 'data_type': 'timestamp'},\n",
      " {'column_name': 'order_status', 'column_position': 4, 'data_type': 'string'}]\n"
     ]
    }
   ],
   "source": [
    "orders_list = db_schemas.get('orders')\n",
    "pp.pprint(orders_list)"
   ]
  },
  {
   "cell_type": "code",
   "execution_count": 85,
   "id": "f45df424",
   "metadata": {},
   "outputs": [
    {
     "name": "stdout",
     "output_type": "stream",
     "text": [
      "['order_id', 'order_date', 'customer_id', 'order_status']\n"
     ]
    },
    {
     "data": {
      "text/plain": [
       "['order_id', 'order_date', 'customer_id', 'order_status']"
      ]
     },
     "execution_count": 85,
     "metadata": {},
     "output_type": "execute_result"
    }
   ],
   "source": [
    "# new_list = []\n",
    "# for order in orders_list:\n",
    "#     new_list.append(order['column_name'])\n",
    "# print(new_list)\n",
    "    \n",
    "new_list = [order['column_name'] for order in orders_list]\n",
    "print(new_list)\n",
    "\n",
    "\n",
    "list(map(lambda order : order['column_name'],orders_list))"
   ]
  },
  {
   "cell_type": "code",
   "execution_count": 86,
   "id": "3037d4da",
   "metadata": {},
   "outputs": [
    {
     "name": "stdout",
     "output_type": "stream",
     "text": [
      "[{'column_name': 'order_id', 'column_position': 1, 'data_type': 'integer'},\n",
      " {'column_name': 'order_date', 'column_position': 2, 'data_type': 'string'},\n",
      " {'column_name': 'order_status', 'column_position': 4, 'data_type': 'string'},\n",
      " {'column_name': 'customer_id', 'column_position': 3, 'data_type': 'timestamp'}]\n"
     ]
    }
   ],
   "source": [
    "sorting_key = input(\"Enter sorting key (column_name/data_type): \").strip()\n",
    "sorted_orders = sorted(orders_list,key = lambda order: order[sorting_key])\n",
    "\n",
    "pp.pprint(sorted_orders)\n",
    "\n"
   ]
  },
  {
   "cell_type": "code",
   "execution_count": 87,
   "id": "da6eab79",
   "metadata": {},
   "outputs": [
    {
     "name": "stdout",
     "output_type": "stream",
     "text": [
      "{'departments': [{'column_name': 'department_id', 'data_type': 'integer', 'column_position': 1}, {'column_name': 'department_name', 'data_type': 'string', 'column_position': 2}], 'categories': [{'column_name': 'category_id', 'data_type': 'integer', 'column_position': 1}, {'column_name': 'category_department_id', 'data_type': 'integer', 'column_position': 2}, {'column_name': 'category_name', 'data_type': 'string', 'column_position': 3}], 'orders': [{'column_name': 'order_id', 'data_type': 'integer', 'column_position': 1}, {'column_name': 'order_date', 'data_type': 'string', 'column_position': 2}, {'column_name': 'customer_id', 'data_type': 'timestamp', 'column_position': 3}, {'column_name': 'order_status', 'data_type': 'string', 'column_position': 4}], 'products': [{'column_name': 'product_id', 'data_type': 'integer', 'column_position': 1}, {'column_name': 'product_cateogry_id', 'data_type': 'integer', 'column_position': 2}, {'column_name': 'product_name', 'data_type': '', 'column_position': 3}, {'column_name': 'product_description', 'data_type': 'string', 'column_position': 4}, {'column_name': 'product_price', 'data_type': 'float', 'column_position': 5}, {'column_name': 'product_image', 'data_type': 'string', 'column_position': 6}], 'customers': [{'column_name': 'customer_id', 'data_type': 'integer', 'column_position': 1}, {'column_name': 'customer_fname', 'data_type': 'string', 'column_position': 2}, {'column_name': 'customer_lname', 'data_type': 'string', 'column_position': 3}, {'column_name': 'customer_email', 'data_type': 'string', 'column_position': 4}, {'column_name': 'customer_password', 'data_type': 'string', 'column_position': 5}, {'column_name': 'customer_street', 'data_type': 'string', 'column_position': 6}, {'column_name': 'customer_city', 'data_type': 'string', 'column_position': 7}, {'column_name': 'customer_state', 'data_type': 'string', 'column_position': 8}, {'column_name': 'customer_zipcode', 'data_type': 'integer', 'column_position': 9}], 'order_items': [{'column_name': 'order_item_id', 'data_type': 'integer', 'column_position': 1}, {'column_name': 'order_item_order_id', 'data_type': 'integer', 'column_position': 2}, {'column_name': 'order_item_product_id', 'data_type': 'integer', 'column_position': 3}, {'column_name': 'order_item_quantity', 'data_type': 'integer', 'column_position': 4}, {'column_name': 'order_item_subtotal', 'data_type': 'float', 'column_position': 5}, {'column_name': 'order_item_product_price', 'data_type': 'float', 'column_position': 6}]}\n"
     ]
    }
   ],
   "source": [
    "print(db_schemas)"
   ]
  },
  {
   "cell_type": "code",
   "execution_count": 88,
   "id": "01452e4b",
   "metadata": {},
   "outputs": [
    {
     "data": {
      "text/plain": [
       "dict_keys(['departments', 'categories', 'orders', 'products', 'customers', 'order_items'])"
      ]
     },
     "execution_count": 88,
     "metadata": {},
     "output_type": "execute_result"
    }
   ],
   "source": [
    "db_schemas.keys()"
   ]
  },
  {
   "cell_type": "code",
   "execution_count": 89,
   "id": "4526afb4",
   "metadata": {},
   "outputs": [],
   "source": [
    "def get_db_schemas(db_schemas, db_name, sorting_key = 'data_type'):\n",
    "    get_tb_name = db_schemas.get(db_name)\n",
    "    print(get_tb_name)\n",
    "    sorted_tb_name = sorted(get_tb_name, key = lambda col : col[sorting_key] )\n",
    "    print(sorted_tb_name)\n",
    "    new_generated_json = [col['data_type'] for col in sorted_tb_name]\n",
    "    print(new_generated_json)"
   ]
  },
  {
   "cell_type": "code",
   "execution_count": 90,
   "id": "89ca4052",
   "metadata": {},
   "outputs": [
    {
     "name": "stdout",
     "output_type": "stream",
     "text": [
      "[{'column_name': 'order_id', 'data_type': 'integer', 'column_position': 1}, {'column_name': 'order_date', 'data_type': 'string', 'column_position': 2}, {'column_name': 'customer_id', 'data_type': 'timestamp', 'column_position': 3}, {'column_name': 'order_status', 'data_type': 'string', 'column_position': 4}]\n",
      "[{'column_name': 'order_id', 'data_type': 'integer', 'column_position': 1}, {'column_name': 'order_date', 'data_type': 'string', 'column_position': 2}, {'column_name': 'order_status', 'data_type': 'string', 'column_position': 4}, {'column_name': 'customer_id', 'data_type': 'timestamp', 'column_position': 3}]\n",
      "['integer', 'string', 'string', 'timestamp']\n"
     ]
    }
   ],
   "source": [
    "get_db_schemas(db_schemas, 'orders')"
   ]
  },
  {
   "cell_type": "markdown",
   "id": "0ae3b29d",
   "metadata": {},
   "source": [
    "Pandas Tutorial\n"
   ]
  },
  {
   "cell_type": "code",
   "execution_count": null,
   "id": "3ee7c907",
   "metadata": {},
   "outputs": [
    {
     "name": "stdout",
     "output_type": "stream",
     "text": [
      "['order_id', 'order_date', 'customer_id', 'order_status']\n",
      "[{'column_name': 'order_id', 'data_type': 'integer', 'column_position': 1}, {'column_name': 'order_date', 'data_type': 'string', 'column_position': 2}, {'column_name': 'customer_id', 'data_type': 'timestamp', 'column_position': 3}, {'column_name': 'order_status', 'data_type': 'string', 'column_position': 4}]\n"
     ]
    },
    {
     "data": {
      "text/html": [
       "<div>\n",
       "<style scoped>\n",
       "    .dataframe tbody tr th:only-of-type {\n",
       "        vertical-align: middle;\n",
       "    }\n",
       "\n",
       "    .dataframe tbody tr th {\n",
       "        vertical-align: top;\n",
       "    }\n",
       "\n",
       "    .dataframe thead th {\n",
       "        text-align: right;\n",
       "    }\n",
       "</style>\n",
       "<table border=\"1\" class=\"dataframe\">\n",
       "  <thead>\n",
       "    <tr style=\"text-align: right;\">\n",
       "      <th></th>\n",
       "      <th>order_id</th>\n",
       "      <th>order_date</th>\n",
       "      <th>customer_id</th>\n",
       "      <th>order_status</th>\n",
       "    </tr>\n",
       "  </thead>\n",
       "  <tbody>\n",
       "    <tr>\n",
       "      <th>0</th>\n",
       "      <td>1002</td>\n",
       "      <td>2024-09-01</td>\n",
       "      <td>CUST012</td>\n",
       "      <td>Processing</td>\n",
       "    </tr>\n",
       "    <tr>\n",
       "      <th>1</th>\n",
       "      <td>1003</td>\n",
       "      <td>2024-09-02</td>\n",
       "      <td>CUST020</td>\n",
       "      <td>Shipped</td>\n",
       "    </tr>\n",
       "    <tr>\n",
       "      <th>2</th>\n",
       "      <td>1004</td>\n",
       "      <td>2024-09-03</td>\n",
       "      <td>CUST005</td>\n",
       "      <td>Cancelled</td>\n",
       "    </tr>\n",
       "    <tr>\n",
       "      <th>3</th>\n",
       "      <td>1005</td>\n",
       "      <td>2024-09-03</td>\n",
       "      <td>CUST018</td>\n",
       "      <td>Delivered</td>\n",
       "    </tr>\n",
       "    <tr>\n",
       "      <th>4</th>\n",
       "      <td>1006</td>\n",
       "      <td>2024-09-04</td>\n",
       "      <td>CUST001</td>\n",
       "      <td>Processing</td>\n",
       "    </tr>\n",
       "    <tr>\n",
       "      <th>5</th>\n",
       "      <td>1007</td>\n",
       "      <td>2024-09-05</td>\n",
       "      <td>CUST012</td>\n",
       "      <td>Shipped</td>\n",
       "    </tr>\n",
       "    <tr>\n",
       "      <th>6</th>\n",
       "      <td>1008</td>\n",
       "      <td>2024-09-05</td>\n",
       "      <td>CUST025</td>\n",
       "      <td>Delivered</td>\n",
       "    </tr>\n",
       "  </tbody>\n",
       "</table>\n",
       "</div>"
      ],
      "text/plain": [
       "   order_id  order_date customer_id order_status\n",
       "0      1002  2024-09-01     CUST012   Processing\n",
       "1      1003  2024-09-02     CUST020      Shipped\n",
       "2      1004  2024-09-03     CUST005    Cancelled\n",
       "3      1005  2024-09-03     CUST018    Delivered\n",
       "4      1006  2024-09-04     CUST001   Processing\n",
       "5      1007  2024-09-05     CUST012      Shipped\n",
       "6      1008  2024-09-05     CUST025    Delivered"
      ]
     },
     "execution_count": 91,
     "metadata": {},
     "output_type": "execute_result"
    }
   ],
   "source": [
    "order_columns = db_schemas.get('orders')\n",
    "columns_name = [col['column_name'] for col in order_columns]\n",
    "print(columns_name)\n",
    "print(order_columns)\n",
    "import pandas as pd\n",
    "order = pd.read_csv(r'C:\\Users\\punitkumar.more\\Documents\\Elisa\\gcp_de\\AUTOMATION\\input\\part.txt', header=0, names=columns_name)\n",
    "order\n"
   ]
  },
  {
   "cell_type": "code",
   "execution_count": 92,
   "id": "aa478284",
   "metadata": {},
   "outputs": [
    {
     "data": {
      "text/plain": [
       "Index(['order_id', 'order_date', 'customer_id', 'order_status'], dtype='object')"
      ]
     },
     "execution_count": 92,
     "metadata": {},
     "output_type": "execute_result"
    }
   ],
   "source": [
    "order.columns"
   ]
  },
  {
   "cell_type": "code",
   "execution_count": 93,
   "id": "107c9920",
   "metadata": {},
   "outputs": [
    {
     "data": {
      "text/plain": [
       "array(['Processing', 'Shipped', 'Cancelled', 'Delivered'], dtype=object)"
      ]
     },
     "execution_count": 93,
     "metadata": {},
     "output_type": "execute_result"
    }
   ],
   "source": [
    "order['order_status'].unique()"
   ]
  },
  {
   "cell_type": "code",
   "execution_count": 94,
   "id": "a4f46720",
   "metadata": {},
   "outputs": [
    {
     "data": {
      "text/html": [
       "<div>\n",
       "<style scoped>\n",
       "    .dataframe tbody tr th:only-of-type {\n",
       "        vertical-align: middle;\n",
       "    }\n",
       "\n",
       "    .dataframe tbody tr th {\n",
       "        vertical-align: top;\n",
       "    }\n",
       "\n",
       "    .dataframe thead th {\n",
       "        text-align: right;\n",
       "    }\n",
       "</style>\n",
       "<table border=\"1\" class=\"dataframe\">\n",
       "  <thead>\n",
       "    <tr style=\"text-align: right;\">\n",
       "      <th></th>\n",
       "      <th>order_id</th>\n",
       "      <th>order_date</th>\n",
       "      <th>customer_id</th>\n",
       "      <th>order_status</th>\n",
       "    </tr>\n",
       "  </thead>\n",
       "  <tbody>\n",
       "  </tbody>\n",
       "</table>\n",
       "</div>"
      ],
      "text/plain": [
       "Empty DataFrame\n",
       "Columns: [order_id, order_date, customer_id, order_status]\n",
       "Index: []"
      ]
     },
     "execution_count": 94,
     "metadata": {},
     "output_type": "execute_result"
    }
   ],
   "source": [
    "order.query('order_status == \"Delivered\" and customer_id == \"CUST001\"')"
   ]
  },
  {
   "cell_type": "code",
   "execution_count": 95,
   "id": "9aeb23df",
   "metadata": {},
   "outputs": [
    {
     "data": {
      "text/html": [
       "<div>\n",
       "<style scoped>\n",
       "    .dataframe tbody tr th:only-of-type {\n",
       "        vertical-align: middle;\n",
       "    }\n",
       "\n",
       "    .dataframe tbody tr th {\n",
       "        vertical-align: top;\n",
       "    }\n",
       "\n",
       "    .dataframe thead th {\n",
       "        text-align: right;\n",
       "    }\n",
       "</style>\n",
       "<table border=\"1\" class=\"dataframe\">\n",
       "  <thead>\n",
       "    <tr style=\"text-align: right;\">\n",
       "      <th></th>\n",
       "      <th>order_id</th>\n",
       "      <th>order_date</th>\n",
       "      <th>customer_id</th>\n",
       "      <th>order_status</th>\n",
       "    </tr>\n",
       "  </thead>\n",
       "  <tbody>\n",
       "    <tr>\n",
       "      <th>3</th>\n",
       "      <td>1005</td>\n",
       "      <td>2024-09-03</td>\n",
       "      <td>CUST018</td>\n",
       "      <td>Delivered</td>\n",
       "    </tr>\n",
       "    <tr>\n",
       "      <th>6</th>\n",
       "      <td>1008</td>\n",
       "      <td>2024-09-05</td>\n",
       "      <td>CUST025</td>\n",
       "      <td>Delivered</td>\n",
       "    </tr>\n",
       "  </tbody>\n",
       "</table>\n",
       "</div>"
      ],
      "text/plain": [
       "   order_id  order_date customer_id order_status\n",
       "3      1005  2024-09-03     CUST018    Delivered\n",
       "6      1008  2024-09-05     CUST025    Delivered"
      ]
     },
     "execution_count": 95,
     "metadata": {},
     "output_type": "execute_result"
    }
   ],
   "source": [
    "order.query('order_status == \"Delivered\" or order_status == \"Pending\"')"
   ]
  },
  {
   "cell_type": "code",
   "execution_count": 96,
   "id": "967b904b",
   "metadata": {},
   "outputs": [
    {
     "name": "stdout",
     "output_type": "stream",
     "text": [
      "    Name  Age\n",
      "0  Alice   25\n",
      "1    Bob   30\n"
     ]
    }
   ],
   "source": [
    "data = {\"Name\" : ['Alice','Bob'],\"Age\": [25,30]}\n",
    "\n",
    "df = pd.DataFrame(data)\n",
    "print(df)"
   ]
  },
  {
   "cell_type": "code",
   "execution_count": 97,
   "id": "b6fea84d",
   "metadata": {},
   "outputs": [],
   "source": [
    "df = order"
   ]
  },
  {
   "cell_type": "code",
   "execution_count": 98,
   "id": "01fee6c0",
   "metadata": {},
   "outputs": [
    {
     "data": {
      "text/html": [
       "<div>\n",
       "<style scoped>\n",
       "    .dataframe tbody tr th:only-of-type {\n",
       "        vertical-align: middle;\n",
       "    }\n",
       "\n",
       "    .dataframe tbody tr th {\n",
       "        vertical-align: top;\n",
       "    }\n",
       "\n",
       "    .dataframe thead th {\n",
       "        text-align: right;\n",
       "    }\n",
       "</style>\n",
       "<table border=\"1\" class=\"dataframe\">\n",
       "  <thead>\n",
       "    <tr style=\"text-align: right;\">\n",
       "      <th></th>\n",
       "      <th>order_id</th>\n",
       "      <th>order_date</th>\n",
       "      <th>customer_id</th>\n",
       "      <th>order_status</th>\n",
       "    </tr>\n",
       "  </thead>\n",
       "  <tbody>\n",
       "    <tr>\n",
       "      <th>0</th>\n",
       "      <td>1002</td>\n",
       "      <td>2024-09-01</td>\n",
       "      <td>CUST012</td>\n",
       "      <td>Processing</td>\n",
       "    </tr>\n",
       "    <tr>\n",
       "      <th>1</th>\n",
       "      <td>1003</td>\n",
       "      <td>2024-09-02</td>\n",
       "      <td>CUST020</td>\n",
       "      <td>Shipped</td>\n",
       "    </tr>\n",
       "    <tr>\n",
       "      <th>2</th>\n",
       "      <td>1004</td>\n",
       "      <td>2024-09-03</td>\n",
       "      <td>CUST005</td>\n",
       "      <td>Cancelled</td>\n",
       "    </tr>\n",
       "    <tr>\n",
       "      <th>3</th>\n",
       "      <td>1005</td>\n",
       "      <td>2024-09-03</td>\n",
       "      <td>CUST018</td>\n",
       "      <td>Delivered</td>\n",
       "    </tr>\n",
       "    <tr>\n",
       "      <th>4</th>\n",
       "      <td>1006</td>\n",
       "      <td>2024-09-04</td>\n",
       "      <td>CUST001</td>\n",
       "      <td>Processing</td>\n",
       "    </tr>\n",
       "    <tr>\n",
       "      <th>5</th>\n",
       "      <td>1007</td>\n",
       "      <td>2024-09-05</td>\n",
       "      <td>CUST012</td>\n",
       "      <td>Shipped</td>\n",
       "    </tr>\n",
       "    <tr>\n",
       "      <th>6</th>\n",
       "      <td>1008</td>\n",
       "      <td>2024-09-05</td>\n",
       "      <td>CUST025</td>\n",
       "      <td>Delivered</td>\n",
       "    </tr>\n",
       "  </tbody>\n",
       "</table>\n",
       "</div>"
      ],
      "text/plain": [
       "   order_id  order_date customer_id order_status\n",
       "0      1002  2024-09-01     CUST012   Processing\n",
       "1      1003  2024-09-02     CUST020      Shipped\n",
       "2      1004  2024-09-03     CUST005    Cancelled\n",
       "3      1005  2024-09-03     CUST018    Delivered\n",
       "4      1006  2024-09-04     CUST001   Processing\n",
       "5      1007  2024-09-05     CUST012      Shipped\n",
       "6      1008  2024-09-05     CUST025    Delivered"
      ]
     },
     "execution_count": 98,
     "metadata": {},
     "output_type": "execute_result"
    }
   ],
   "source": [
    "df"
   ]
  },
  {
   "cell_type": "code",
   "execution_count": 99,
   "id": "cdc49ea9",
   "metadata": {},
   "outputs": [
    {
     "data": {
      "text/plain": [
       "order_id         int64\n",
       "order_date      object\n",
       "customer_id     object\n",
       "order_status    object\n",
       "dtype: object"
      ]
     },
     "execution_count": 99,
     "metadata": {},
     "output_type": "execute_result"
    }
   ],
   "source": [
    "df.dtypes"
   ]
  },
  {
   "cell_type": "code",
   "execution_count": 100,
   "id": "891f6d59",
   "metadata": {},
   "outputs": [
    {
     "name": "stdout",
     "output_type": "stream",
     "text": [
      "  order_status  order_id\n",
      "0    Cancelled         1\n",
      "1    Delivered         2\n",
      "2   Processing         2\n",
      "3      Shipped         2\n"
     ]
    }
   ],
   "source": [
    "status_count = df.groupby('order_status')['order_id'].count().reset_index()\n",
    "print(status_count)"
   ]
  },
  {
   "cell_type": "code",
   "execution_count": 101,
   "id": "46baae11",
   "metadata": {},
   "outputs": [
    {
     "name": "stdout",
     "output_type": "stream",
     "text": [
      "[{'column_name': 'order_id', 'column_position': 1, 'data_type': 'integer'},\n",
      " {'column_name': 'order_date', 'column_position': 2, 'data_type': 'string'},\n",
      " {'column_name': 'customer_id', 'column_position': 3, 'data_type': 'timestamp'},\n",
      " {'column_name': 'order_status', 'column_position': 4, 'data_type': 'string'}]\n",
      "order_status\n",
      "Cancelled     1\n",
      "Processing    2\n",
      "Shipped       2\n",
      "Delivered     2\n",
      "Name: count, dtype: int64\n"
     ]
    }
   ],
   "source": [
    "pp.pprint(orders_list)\n",
    "print(df['order_status'].value_counts(dropna=False,sort=True,ascending=True)) #combination of group by and order by"
   ]
  },
  {
   "cell_type": "code",
   "execution_count": 102,
   "id": "50744381",
   "metadata": {},
   "outputs": [
    {
     "name": "stdout",
     "output_type": "stream",
     "text": [
      "0   2024-09-01\n",
      "1   2024-09-02\n",
      "2   2024-09-03\n",
      "3   2024-09-03\n",
      "4   2024-09-04\n",
      "5   2024-09-05\n",
      "6   2024-09-05\n",
      "Name: order_date, dtype: datetime64[ns]\n",
      "0    2024-09\n",
      "1    2024-09\n",
      "2    2024-09\n",
      "3    2024-09\n",
      "4    2024-09\n",
      "5    2024-09\n",
      "6    2024-09\n",
      "Name: Month, dtype: period[M] *****\n",
      "0    2024\n",
      "1    2024\n",
      "2    2024\n",
      "3    2024\n",
      "4    2024\n",
      "5    2024\n",
      "6    2024\n",
      "Name: Year, dtype: int32 ******\n"
     ]
    }
   ],
   "source": [
    "df['order_date'] = pd.to_datetime(df['order_date'])\n",
    "print(df['order_date'])\n",
    "df['Month'] = df['order_date'].dt.to_period('M')    #dt.month\n",
    "df['Year'] = df['order_date'].dt.year               #dt.year\n",
    "print(df['Month'],'*****')\n",
    "print(df['Year'],'******')\n",
    "\n"
   ]
  },
  {
   "cell_type": "code",
   "execution_count": 103,
   "id": "1e5088e4",
   "metadata": {},
   "outputs": [
    {
     "name": "stdout",
     "output_type": "stream",
     "text": [
      "   order_id order_date customer_id order_status    Month  Year\n",
      "0      1002 2024-09-01     CUST012   Processing  2024-09  2024\n",
      "1      1003 2024-09-02     CUST020      Shipped  2024-09  2024\n",
      "2      1004 2024-09-03     CUST005    Cancelled  2024-09  2024\n",
      "3      1005 2024-09-03     CUST018    Delivered  2024-09  2024\n",
      "4      1006 2024-09-04     CUST001   Processing  2024-09  2024\n",
      "5      1007 2024-09-05     CUST012      Shipped  2024-09  2024\n",
      "6      1008 2024-09-05     CUST025    Delivered  2024-09  2024\n"
     ]
    }
   ],
   "source": [
    "print(order)\n"
   ]
  },
  {
   "cell_type": "code",
   "execution_count": 104,
   "id": "a14e8d6d",
   "metadata": {},
   "outputs": [
    {
     "name": "stdout",
     "output_type": "stream",
     "text": [
      "0   2024-09-01\n",
      "1   2024-09-02\n",
      "2   2024-09-03\n",
      "3   2024-09-03\n",
      "4   2024-09-04\n",
      "5   2024-09-05\n",
      "6   2024-09-05\n",
      "Name: order_date, dtype: datetime64[ns]\n",
      "0    2024-09\n",
      "1    2024-09\n",
      "2    2024-09\n",
      "3    2024-09\n",
      "4    2024-09\n",
      "5    2024-09\n",
      "6    2024-09\n",
      "Name: Month, dtype: period[M] *****\n",
      "0    2024\n",
      "1    2024\n",
      "2    2024\n",
      "3    2024\n",
      "4    2024\n",
      "5    2024\n",
      "6    2024\n",
      "Name: Year, dtype: int32 ******\n"
     ]
    }
   ],
   "source": [
    "df['order_date'] = pd.to_datetime(df['order_date'])\n",
    "print(df['order_date'])\n",
    "df['Month'] = df['order_date'].dt.to_period('M')    #dt.month\n",
    "df['Year'] = df['order_date'].dt.year               #dt.year\n",
    "print(df['Month'],'*****')\n",
    "print(df['Year'],'******')\n"
   ]
  },
  {
   "cell_type": "code",
   "execution_count": 105,
   "id": "c3c68eaf",
   "metadata": {},
   "outputs": [
    {
     "name": "stdout",
     "output_type": "stream",
     "text": [
      "   order_id order_date customer_id order_status    Month  Year\n",
      "0      1002 2024-09-01     CUST012   Processing  2024-09  2024\n",
      "1      1003 2024-09-02     CUST020      Shipped  2024-09  2024\n",
      "2      1004 2024-09-03     CUST005    Cancelled  2024-09  2024\n",
      "3      1005 2024-09-03     CUST018    Delivered  2024-09  2024\n",
      "4      1006 2024-09-04     CUST001   Processing  2024-09  2024\n",
      "5      1007 2024-09-05     CUST012      Shipped  2024-09  2024\n",
      "6      1008 2024-09-05     CUST025    Delivered  2024-09  2024\n",
      "----------------------------------------\n",
      "     Month order_status  order_id\n",
      "0  2024-09    Cancelled         1\n",
      "1  2024-09    Delivered         2\n",
      "2  2024-09   Processing         2\n",
      "3  2024-09      Shipped         2\n",
      "----------------------------------------\n",
      "Month    order_status\n",
      "2024-09  Cancelled       1\n",
      "         Delivered       2\n",
      "         Processing      2\n",
      "         Shipped         2\n",
      "Name: order_id, dtype: int64\n"
     ]
    }
   ],
   "source": [
    "print(df)\n",
    "print('--'*20)\n",
    "df['order_date'] = pd.to_datetime(df['order_date'])\n",
    "df['Month'] = df['order_date'].dt.to_period('M')    #dt.month\n",
    "count = df.groupby(['Month','order_status'])['order_id'].count().reset_index()\n",
    "print(count)\n",
    "print('----'*10)\n",
    "count = df.groupby(['Month','order_status'])['order_id'].count()\n",
    "print(count)\n"
   ]
  },
  {
   "cell_type": "code",
   "execution_count": 106,
   "id": "e7099592",
   "metadata": {},
   "outputs": [
    {
     "name": "stdout",
     "output_type": "stream",
     "text": [
      "order_status  Cancelled  Delivered  Processing  Shipped\n",
      "Month                                                  \n",
      "2024-09               1          2           2        2\n"
     ]
    }
   ],
   "source": [
    "pivot = df.pivot_table(index='Month',columns='order_status',values='order_id',aggfunc='count',fill_value=0)\n",
    "print(pivot)"
   ]
  },
  {
   "cell_type": "code",
   "execution_count": 107,
   "id": "f49ca72c",
   "metadata": {},
   "outputs": [
    {
     "name": "stdout",
     "output_type": "stream",
     "text": [
      "{'categories': [{'column_name': 'category_id',\n",
      "                 'column_position': 1,\n",
      "                 'data_type': 'integer'},\n",
      "                {'column_name': 'category_department_id',\n",
      "                 'column_position': 2,\n",
      "                 'data_type': 'integer'},\n",
      "                {'column_name': 'category_name',\n",
      "                 'column_position': 3,\n",
      "                 'data_type': 'string'}],\n",
      " 'customers': [{'column_name': 'customer_id',\n",
      "                'column_position': 1,\n",
      "                'data_type': 'integer'},\n",
      "               {'column_name': 'customer_fname',\n",
      "                'column_position': 2,\n",
      "                'data_type': 'string'},\n",
      "               {'column_name': 'customer_lname',\n",
      "                'column_position': 3,\n",
      "                'data_type': 'string'},\n",
      "               {'column_name': 'customer_email',\n",
      "                'column_position': 4,\n",
      "                'data_type': 'string'},\n",
      "               {'column_name': 'customer_password',\n",
      "                'column_position': 5,\n",
      "                'data_type': 'string'},\n",
      "               {'column_name': 'customer_street',\n",
      "                'column_position': 6,\n",
      "                'data_type': 'string'},\n",
      "               {'column_name': 'customer_city',\n",
      "                'column_position': 7,\n",
      "                'data_type': 'string'},\n",
      "               {'column_name': 'customer_state',\n",
      "                'column_position': 8,\n",
      "                'data_type': 'string'},\n",
      "               {'column_name': 'customer_zipcode',\n",
      "                'column_position': 9,\n",
      "                'data_type': 'integer'}],\n",
      " 'departments': [{'column_name': 'department_id',\n",
      "                  'column_position': 1,\n",
      "                  'data_type': 'integer'},\n",
      "                 {'column_name': 'department_name',\n",
      "                  'column_position': 2,\n",
      "                  'data_type': 'string'}],\n",
      " 'order_items': [{'column_name': 'order_item_id',\n",
      "                  'column_position': 1,\n",
      "                  'data_type': 'integer'},\n",
      "                 {'column_name': 'order_item_order_id',\n",
      "                  'column_position': 2,\n",
      "                  'data_type': 'integer'},\n",
      "                 {'column_name': 'order_item_product_id',\n",
      "                  'column_position': 3,\n",
      "                  'data_type': 'integer'},\n",
      "                 {'column_name': 'order_item_quantity',\n",
      "                  'column_position': 4,\n",
      "                  'data_type': 'integer'},\n",
      "                 {'column_name': 'order_item_subtotal',\n",
      "                  'column_position': 5,\n",
      "                  'data_type': 'float'},\n",
      "                 {'column_name': 'order_item_product_price',\n",
      "                  'column_position': 6,\n",
      "                  'data_type': 'float'}],\n",
      " 'orders': [{'column_name': 'order_id',\n",
      "             'column_position': 1,\n",
      "             'data_type': 'integer'},\n",
      "            {'column_name': 'order_date',\n",
      "             'column_position': 2,\n",
      "             'data_type': 'string'},\n",
      "            {'column_name': 'customer_id',\n",
      "             'column_position': 3,\n",
      "             'data_type': 'timestamp'},\n",
      "            {'column_name': 'order_status',\n",
      "             'column_position': 4,\n",
      "             'data_type': 'string'}],\n",
      " 'products': [{'column_name': 'product_id',\n",
      "               'column_position': 1,\n",
      "               'data_type': 'integer'},\n",
      "              {'column_name': 'product_cateogry_id',\n",
      "               'column_position': 2,\n",
      "               'data_type': 'integer'},\n",
      "              {'column_name': 'product_name',\n",
      "               'column_position': 3,\n",
      "               'data_type': ''},\n",
      "              {'column_name': 'product_description',\n",
      "               'column_position': 4,\n",
      "               'data_type': 'string'},\n",
      "              {'column_name': 'product_price',\n",
      "               'column_position': 5,\n",
      "               'data_type': 'float'},\n",
      "              {'column_name': 'product_image',\n",
      "               'column_position': 6,\n",
      "               'data_type': 'string'}]}\n"
     ]
    }
   ],
   "source": [
    "pp.pprint(db_schemas)"
   ]
  },
  {
   "cell_type": "code",
   "execution_count": null,
   "id": "74080e47",
   "metadata": {},
   "outputs": [
    {
     "ename": "SyntaxError",
     "evalue": "expected ':' (2565964294.py, line 10)",
     "output_type": "error",
     "traceback": [
      "  \u001b[36mCell\u001b[39m\u001b[36m \u001b[39m\u001b[32mIn[108]\u001b[39m\u001b[32m, line 10\u001b[39m\n\u001b[31m    \u001b[39m\u001b[31mdef get_columns_names()\u001b[39m\n                           ^\n\u001b[31mSyntaxError\u001b[39m\u001b[31m:\u001b[39m expected ':'\n"
     ]
    }
   ],
   "source": [
    "# def get_columns_by_type(db_schemas, db_name, data_type='STRING'):\n",
    "#     get_tb_name = db_schemas.get(db_name)\n",
    "#     pp.pprint(get_tb_name)\n",
    "#     #filtered_columns = list(filter(lambda col: col['data_type'] == 'integer',get_tb_name))\n",
    "#     #print(filtered_columns)\n",
    "#     #new_generated_json = [col['column_name'] for col in filtered_columns]\n",
    "#     print(new_generated_json)\n",
    "\n",
    "\n",
    "#def get_columns_names()"
   ]
  },
  {
   "cell_type": "code",
   "execution_count": null,
   "id": "54f7d62c",
   "metadata": {},
   "outputs": [
    {
     "name": "stdout",
     "output_type": "stream",
     "text": [
      "{'categories': [{'column_name': 'category_id',\n",
      "                 'column_position': 1,\n",
      "                 'data_type': 'integer'},\n",
      "                {'column_name': 'category_department_id',\n",
      "                 'column_position': 2,\n",
      "                 'data_type': 'integer'},\n",
      "                {'column_name': 'category_name',\n",
      "                 'column_position': 3,\n",
      "                 'data_type': 'string'}],\n",
      " 'customers': [{'column_name': 'customer_id',\n",
      "                'column_position': 1,\n",
      "                'data_type': 'integer'},\n",
      "               {'column_name': 'customer_fname',\n",
      "                'column_position': 2,\n",
      "                'data_type': 'string'},\n",
      "               {'column_name': 'customer_lname',\n",
      "                'column_position': 3,\n",
      "                'data_type': 'string'},\n",
      "               {'column_name': 'customer_email',\n",
      "                'column_position': 4,\n",
      "                'data_type': 'string'},\n",
      "               {'column_name': 'customer_password',\n",
      "                'column_position': 5,\n",
      "                'data_type': 'string'},\n",
      "               {'column_name': 'customer_street',\n",
      "                'column_position': 6,\n",
      "                'data_type': 'string'},\n",
      "               {'column_name': 'customer_city',\n",
      "                'column_position': 7,\n",
      "                'data_type': 'string'},\n",
      "               {'column_name': 'customer_state',\n",
      "                'column_position': 8,\n",
      "                'data_type': 'string'},\n",
      "               {'column_name': 'customer_zipcode',\n",
      "                'column_position': 9,\n",
      "                'data_type': 'integer'}],\n",
      " 'departments': [{'column_name': 'department_id',\n",
      "                  'column_position': 1,\n",
      "                  'data_type': 'integer'},\n",
      "                 {'column_name': 'department_name',\n",
      "                  'column_position': 2,\n",
      "                  'data_type': 'string'}],\n",
      " 'order_items': [{'column_name': 'order_item_id',\n",
      "                  'column_position': 1,\n",
      "                  'data_type': 'integer'},\n",
      "                 {'column_name': 'order_item_order_id',\n",
      "                  'column_position': 2,\n",
      "                  'data_type': 'integer'},\n",
      "                 {'column_name': 'order_item_product_id',\n",
      "                  'column_position': 3,\n",
      "                  'data_type': 'integer'},\n",
      "                 {'column_name': 'order_item_quantity',\n",
      "                  'column_position': 4,\n",
      "                  'data_type': 'integer'},\n",
      "                 {'column_name': 'order_item_subtotal',\n",
      "                  'column_position': 5,\n",
      "                  'data_type': 'float'},\n",
      "                 {'column_name': 'order_item_product_price',\n",
      "                  'column_position': 6,\n",
      "                  'data_type': 'float'}],\n",
      " 'orders': [{'column_name': 'order_id',\n",
      "             'column_position': 1,\n",
      "             'data_type': 'integer'},\n",
      "            {'column_name': 'order_date',\n",
      "             'column_position': 2,\n",
      "             'data_type': 'string'},\n",
      "            {'column_name': 'customer_id',\n",
      "             'column_position': 3,\n",
      "             'data_type': 'timestamp'},\n",
      "            {'column_name': 'order_status',\n",
      "             'column_position': 4,\n",
      "             'data_type': 'string'}],\n",
      " 'products': [{'column_name': 'product_id',\n",
      "               'column_position': 1,\n",
      "               'data_type': 'integer'},\n",
      "              {'column_name': 'product_cateogry_id',\n",
      "               'column_position': 2,\n",
      "               'data_type': 'integer'},\n",
      "              {'column_name': 'product_name',\n",
      "               'column_position': 3,\n",
      "               'data_type': ''},\n",
      "              {'column_name': 'product_description',\n",
      "               'column_position': 4,\n",
      "               'data_type': 'string'},\n",
      "              {'column_name': 'product_price',\n",
      "               'column_position': 5,\n",
      "               'data_type': 'float'},\n",
      "              {'column_name': 'product_image',\n",
      "               'column_position': 6,\n",
      "               'data_type': 'string'}]}\n"
     ]
    }
   ],
   "source": [
    "pp.pprint(db_schemas)"
   ]
  },
  {
   "cell_type": "code",
   "execution_count": 116,
   "id": "389d97e6",
   "metadata": {},
   "outputs": [],
   "source": [
    "db_schemas = json.load(open('db_schemas.json','r'))\n",
    "#pp.pprint(db_schemas)\n",
    "def get_columns_names(db_schemas, tb_name,sorting_key='column_position'):\n",
    "    columns_details = db_schemas.get(tb_name)\n",
    "    # sorted_columns = sorted(columns_details, key = lambda col: col[sorting_key])\n",
    "    # pp.pprint(sorted_columns)\n",
    "    return [col['column_name'] for col in columns_details]\n",
    "\n"
   ]
  },
  {
   "cell_type": "code",
   "execution_count": 119,
   "id": "33afa80f",
   "metadata": {},
   "outputs": [
    {
     "name": "stdout",
     "output_type": "stream",
     "text": [
      "['order_id', 'order_date', 'customer_id', 'order_status']\n"
     ]
    }
   ],
   "source": [
    "order_column = get_columns_names(db_schemas, 'orders')\n",
    "print(order_column)"
   ]
  },
  {
   "cell_type": "code",
   "execution_count": 117,
   "id": "e9d4a5e0",
   "metadata": {},
   "outputs": [
    {
     "name": "stdout",
     "output_type": "stream",
     "text": [
      "['customer_id', 'customer_fname', 'customer_lname', 'customer_email', 'customer_password', 'customer_street', 'customer_city', 'customer_state', 'customer_zipcode']\n"
     ]
    }
   ],
   "source": [
    "customer_columns = get_columns_names(db_schemas, 'customers')\n",
    "print(customer_columns)"
   ]
  },
  {
   "cell_type": "code",
   "execution_count": null,
   "id": "6798f4ba",
   "metadata": {},
   "outputs": [
    {
     "data": {
      "text/html": [
       "<div>\n",
       "<style scoped>\n",
       "    .dataframe tbody tr th:only-of-type {\n",
       "        vertical-align: middle;\n",
       "    }\n",
       "\n",
       "    .dataframe tbody tr th {\n",
       "        vertical-align: top;\n",
       "    }\n",
       "\n",
       "    .dataframe thead th {\n",
       "        text-align: right;\n",
       "    }\n",
       "</style>\n",
       "<table border=\"1\" class=\"dataframe\">\n",
       "  <thead>\n",
       "    <tr style=\"text-align: right;\">\n",
       "      <th></th>\n",
       "      <th>order_id</th>\n",
       "      <th>order_date</th>\n",
       "      <th>customer_id</th>\n",
       "      <th>order_status</th>\n",
       "    </tr>\n",
       "  </thead>\n",
       "  <tbody>\n",
       "    <tr>\n",
       "      <th>0</th>\n",
       "      <td>1002</td>\n",
       "      <td>2024-09-01</td>\n",
       "      <td>CUST012</td>\n",
       "      <td>Processing</td>\n",
       "    </tr>\n",
       "    <tr>\n",
       "      <th>1</th>\n",
       "      <td>1003</td>\n",
       "      <td>2024-09-02</td>\n",
       "      <td>CUST020</td>\n",
       "      <td>Shipped</td>\n",
       "    </tr>\n",
       "    <tr>\n",
       "      <th>2</th>\n",
       "      <td>1004</td>\n",
       "      <td>2024-09-03</td>\n",
       "      <td>CUST005</td>\n",
       "      <td>Cancelled</td>\n",
       "    </tr>\n",
       "    <tr>\n",
       "      <th>3</th>\n",
       "      <td>1005</td>\n",
       "      <td>2024-09-03</td>\n",
       "      <td>CUST018</td>\n",
       "      <td>Delivered</td>\n",
       "    </tr>\n",
       "    <tr>\n",
       "      <th>4</th>\n",
       "      <td>1006</td>\n",
       "      <td>2024-09-04</td>\n",
       "      <td>CUST001</td>\n",
       "      <td>Processing</td>\n",
       "    </tr>\n",
       "    <tr>\n",
       "      <th>5</th>\n",
       "      <td>1007</td>\n",
       "      <td>2024-09-05</td>\n",
       "      <td>CUST012</td>\n",
       "      <td>Shipped</td>\n",
       "    </tr>\n",
       "    <tr>\n",
       "      <th>6</th>\n",
       "      <td>1008</td>\n",
       "      <td>2024-09-05</td>\n",
       "      <td>CUST025</td>\n",
       "      <td>Delivered</td>\n",
       "    </tr>\n",
       "  </tbody>\n",
       "</table>\n",
       "</div>"
      ],
      "text/plain": [
       "   order_id  order_date customer_id order_status\n",
       "0      1002  2024-09-01     CUST012   Processing\n",
       "1      1003  2024-09-02     CUST020      Shipped\n",
       "2      1004  2024-09-03     CUST005    Cancelled\n",
       "3      1005  2024-09-03     CUST018    Delivered\n",
       "4      1006  2024-09-04     CUST001   Processing\n",
       "5      1007  2024-09-05     CUST012      Shipped\n",
       "6      1008  2024-09-05     CUST025    Delivered"
      ]
     },
     "execution_count": 120,
     "metadata": {},
     "output_type": "execute_result"
    }
   ],
   "source": [
    "order_df = pd.read_csv(r'C:\\Users\\punitkumar.more\\Documents\\Elisa\\gcp_de\\AUTOMATION\\input\\part.txt',header=0, names=order_column)\n",
    "order_df"
   ]
  },
  {
   "cell_type": "code",
   "execution_count": null,
   "id": "863ce8f7",
   "metadata": {},
   "outputs": [
    {
     "name": "stdout",
     "output_type": "stream",
     "text": [
      "   customer_id customer_fname customer_lname customer_email  \\\n",
      "0         1001     2024-09-01        CUST005      Delivered   \n",
      "1         1002     2024-09-01        CUST012     Processing   \n",
      "2         1003     2024-09-02        CUST020        Shipped   \n",
      "3         1004     2024-09-03        CUST005      Cancelled   \n",
      "4         1005     2024-09-03        CUST018      Delivered   \n",
      "5         1006     2024-09-04        CUST001     Processing   \n",
      "6         1007     2024-09-05        CUST012        Shipped   \n",
      "7         1008     2024-09-05        CUST025      Delivered   \n",
      "\n",
      "   customer_password  customer_street  customer_city  customer_state  \\\n",
      "0                NaN              NaN            NaN             NaN   \n",
      "1                NaN              NaN            NaN             NaN   \n",
      "2                NaN              NaN            NaN             NaN   \n",
      "3                NaN              NaN            NaN             NaN   \n",
      "4                NaN              NaN            NaN             NaN   \n",
      "5                NaN              NaN            NaN             NaN   \n",
      "6                NaN              NaN            NaN             NaN   \n",
      "7                NaN              NaN            NaN             NaN   \n",
      "\n",
      "   customer_zipcode  \n",
      "0               NaN  \n",
      "1               NaN  \n",
      "2               NaN  \n",
      "3               NaN  \n",
      "4               NaN  \n",
      "5               NaN  \n",
      "6               NaN  \n",
      "7               NaN  \n"
     ]
    }
   ],
   "source": [
    "cust_df = pd.read_csv(r'C:\\Users\\punitkumar.more\\Documents\\Elisa\\gcp_de\\AUTOMATION\\input\\part.txt', names=customer_columns)\n",
    "print(cust_df)"
   ]
  },
  {
   "cell_type": "code",
   "execution_count": 122,
   "id": "843998a7",
   "metadata": {},
   "outputs": [
    {
     "data": {
      "text/html": [
       "<div>\n",
       "<style scoped>\n",
       "    .dataframe tbody tr th:only-of-type {\n",
       "        vertical-align: middle;\n",
       "    }\n",
       "\n",
       "    .dataframe tbody tr th {\n",
       "        vertical-align: top;\n",
       "    }\n",
       "\n",
       "    .dataframe thead th {\n",
       "        text-align: right;\n",
       "    }\n",
       "</style>\n",
       "<table border=\"1\" class=\"dataframe\">\n",
       "  <thead>\n",
       "    <tr style=\"text-align: right;\">\n",
       "      <th></th>\n",
       "      <th>customer_fname</th>\n",
       "      <th>customer_lname</th>\n",
       "      <th>customer_email</th>\n",
       "      <th>customer_password</th>\n",
       "      <th>customer_street</th>\n",
       "      <th>customer_city</th>\n",
       "      <th>customer_state</th>\n",
       "      <th>customer_zipcode</th>\n",
       "    </tr>\n",
       "    <tr>\n",
       "      <th>customer_id</th>\n",
       "      <th></th>\n",
       "      <th></th>\n",
       "      <th></th>\n",
       "      <th></th>\n",
       "      <th></th>\n",
       "      <th></th>\n",
       "      <th></th>\n",
       "      <th></th>\n",
       "    </tr>\n",
       "  </thead>\n",
       "  <tbody>\n",
       "    <tr>\n",
       "      <th>1001</th>\n",
       "      <td>2024-09-01</td>\n",
       "      <td>CUST005</td>\n",
       "      <td>Delivered</td>\n",
       "      <td>NaN</td>\n",
       "      <td>NaN</td>\n",
       "      <td>NaN</td>\n",
       "      <td>NaN</td>\n",
       "      <td>NaN</td>\n",
       "    </tr>\n",
       "    <tr>\n",
       "      <th>1002</th>\n",
       "      <td>2024-09-01</td>\n",
       "      <td>CUST012</td>\n",
       "      <td>Processing</td>\n",
       "      <td>NaN</td>\n",
       "      <td>NaN</td>\n",
       "      <td>NaN</td>\n",
       "      <td>NaN</td>\n",
       "      <td>NaN</td>\n",
       "    </tr>\n",
       "    <tr>\n",
       "      <th>1003</th>\n",
       "      <td>2024-09-02</td>\n",
       "      <td>CUST020</td>\n",
       "      <td>Shipped</td>\n",
       "      <td>NaN</td>\n",
       "      <td>NaN</td>\n",
       "      <td>NaN</td>\n",
       "      <td>NaN</td>\n",
       "      <td>NaN</td>\n",
       "    </tr>\n",
       "    <tr>\n",
       "      <th>1004</th>\n",
       "      <td>2024-09-03</td>\n",
       "      <td>CUST005</td>\n",
       "      <td>Cancelled</td>\n",
       "      <td>NaN</td>\n",
       "      <td>NaN</td>\n",
       "      <td>NaN</td>\n",
       "      <td>NaN</td>\n",
       "      <td>NaN</td>\n",
       "    </tr>\n",
       "    <tr>\n",
       "      <th>1005</th>\n",
       "      <td>2024-09-03</td>\n",
       "      <td>CUST018</td>\n",
       "      <td>Delivered</td>\n",
       "      <td>NaN</td>\n",
       "      <td>NaN</td>\n",
       "      <td>NaN</td>\n",
       "      <td>NaN</td>\n",
       "      <td>NaN</td>\n",
       "    </tr>\n",
       "    <tr>\n",
       "      <th>1006</th>\n",
       "      <td>2024-09-04</td>\n",
       "      <td>CUST001</td>\n",
       "      <td>Processing</td>\n",
       "      <td>NaN</td>\n",
       "      <td>NaN</td>\n",
       "      <td>NaN</td>\n",
       "      <td>NaN</td>\n",
       "      <td>NaN</td>\n",
       "    </tr>\n",
       "    <tr>\n",
       "      <th>1007</th>\n",
       "      <td>2024-09-05</td>\n",
       "      <td>CUST012</td>\n",
       "      <td>Shipped</td>\n",
       "      <td>NaN</td>\n",
       "      <td>NaN</td>\n",
       "      <td>NaN</td>\n",
       "      <td>NaN</td>\n",
       "      <td>NaN</td>\n",
       "    </tr>\n",
       "    <tr>\n",
       "      <th>1008</th>\n",
       "      <td>2024-09-05</td>\n",
       "      <td>CUST025</td>\n",
       "      <td>Delivered</td>\n",
       "      <td>NaN</td>\n",
       "      <td>NaN</td>\n",
       "      <td>NaN</td>\n",
       "      <td>NaN</td>\n",
       "      <td>NaN</td>\n",
       "    </tr>\n",
       "  </tbody>\n",
       "</table>\n",
       "</div>"
      ],
      "text/plain": [
       "            customer_fname customer_lname customer_email  customer_password  \\\n",
       "customer_id                                                                   \n",
       "1001            2024-09-01        CUST005      Delivered                NaN   \n",
       "1002            2024-09-01        CUST012     Processing                NaN   \n",
       "1003            2024-09-02        CUST020        Shipped                NaN   \n",
       "1004            2024-09-03        CUST005      Cancelled                NaN   \n",
       "1005            2024-09-03        CUST018      Delivered                NaN   \n",
       "1006            2024-09-04        CUST001     Processing                NaN   \n",
       "1007            2024-09-05        CUST012        Shipped                NaN   \n",
       "1008            2024-09-05        CUST025      Delivered                NaN   \n",
       "\n",
       "             customer_street  customer_city  customer_state  customer_zipcode  \n",
       "customer_id                                                                    \n",
       "1001                     NaN            NaN             NaN               NaN  \n",
       "1002                     NaN            NaN             NaN               NaN  \n",
       "1003                     NaN            NaN             NaN               NaN  \n",
       "1004                     NaN            NaN             NaN               NaN  \n",
       "1005                     NaN            NaN             NaN               NaN  \n",
       "1006                     NaN            NaN             NaN               NaN  \n",
       "1007                     NaN            NaN             NaN               NaN  \n",
       "1008                     NaN            NaN             NaN               NaN  "
      ]
     },
     "execution_count": 122,
     "metadata": {},
     "output_type": "execute_result"
    }
   ],
   "source": [
    "customers = cust_df.set_index('customer_id')\n",
    "customers"
   ]
  },
  {
   "cell_type": "code",
   "execution_count": 123,
   "id": "0736554c",
   "metadata": {},
   "outputs": [
    {
     "data": {
      "text/html": [
       "<div>\n",
       "<style scoped>\n",
       "    .dataframe tbody tr th:only-of-type {\n",
       "        vertical-align: middle;\n",
       "    }\n",
       "\n",
       "    .dataframe tbody tr th {\n",
       "        vertical-align: top;\n",
       "    }\n",
       "\n",
       "    .dataframe thead th {\n",
       "        text-align: right;\n",
       "    }\n",
       "</style>\n",
       "<table border=\"1\" class=\"dataframe\">\n",
       "  <thead>\n",
       "    <tr style=\"text-align: right;\">\n",
       "      <th></th>\n",
       "      <th>order_date</th>\n",
       "      <th>customer_id</th>\n",
       "      <th>order_status</th>\n",
       "    </tr>\n",
       "    <tr>\n",
       "      <th>order_id</th>\n",
       "      <th></th>\n",
       "      <th></th>\n",
       "      <th></th>\n",
       "    </tr>\n",
       "  </thead>\n",
       "  <tbody>\n",
       "    <tr>\n",
       "      <th>1002</th>\n",
       "      <td>2024-09-01</td>\n",
       "      <td>CUST012</td>\n",
       "      <td>Processing</td>\n",
       "    </tr>\n",
       "    <tr>\n",
       "      <th>1003</th>\n",
       "      <td>2024-09-02</td>\n",
       "      <td>CUST020</td>\n",
       "      <td>Shipped</td>\n",
       "    </tr>\n",
       "    <tr>\n",
       "      <th>1004</th>\n",
       "      <td>2024-09-03</td>\n",
       "      <td>CUST005</td>\n",
       "      <td>Cancelled</td>\n",
       "    </tr>\n",
       "    <tr>\n",
       "      <th>1005</th>\n",
       "      <td>2024-09-03</td>\n",
       "      <td>CUST018</td>\n",
       "      <td>Delivered</td>\n",
       "    </tr>\n",
       "    <tr>\n",
       "      <th>1006</th>\n",
       "      <td>2024-09-04</td>\n",
       "      <td>CUST001</td>\n",
       "      <td>Processing</td>\n",
       "    </tr>\n",
       "    <tr>\n",
       "      <th>1007</th>\n",
       "      <td>2024-09-05</td>\n",
       "      <td>CUST012</td>\n",
       "      <td>Shipped</td>\n",
       "    </tr>\n",
       "    <tr>\n",
       "      <th>1008</th>\n",
       "      <td>2024-09-05</td>\n",
       "      <td>CUST025</td>\n",
       "      <td>Delivered</td>\n",
       "    </tr>\n",
       "  </tbody>\n",
       "</table>\n",
       "</div>"
      ],
      "text/plain": [
       "          order_date customer_id order_status\n",
       "order_id                                     \n",
       "1002      2024-09-01     CUST012   Processing\n",
       "1003      2024-09-02     CUST020      Shipped\n",
       "1004      2024-09-03     CUST005    Cancelled\n",
       "1005      2024-09-03     CUST018    Delivered\n",
       "1006      2024-09-04     CUST001   Processing\n",
       "1007      2024-09-05     CUST012      Shipped\n",
       "1008      2024-09-05     CUST025    Delivered"
      ]
     },
     "execution_count": 123,
     "metadata": {},
     "output_type": "execute_result"
    }
   ],
   "source": [
    "order = order_df.set_index('order_id')\n",
    "order"
   ]
  },
  {
   "cell_type": "code",
   "execution_count": 124,
   "id": "7a90d2e0",
   "metadata": {},
   "outputs": [
    {
     "data": {
      "text/html": [
       "<div>\n",
       "<style scoped>\n",
       "    .dataframe tbody tr th:only-of-type {\n",
       "        vertical-align: middle;\n",
       "    }\n",
       "\n",
       "    .dataframe tbody tr th {\n",
       "        vertical-align: top;\n",
       "    }\n",
       "\n",
       "    .dataframe thead th {\n",
       "        text-align: right;\n",
       "    }\n",
       "</style>\n",
       "<table border=\"1\" class=\"dataframe\">\n",
       "  <thead>\n",
       "    <tr style=\"text-align: right;\">\n",
       "      <th></th>\n",
       "      <th>customer_fname</th>\n",
       "      <th>customer_lname</th>\n",
       "      <th>customer_email</th>\n",
       "      <th>customer_password</th>\n",
       "      <th>customer_street</th>\n",
       "      <th>customer_city</th>\n",
       "      <th>customer_state</th>\n",
       "      <th>customer_zipcode</th>\n",
       "      <th>order_date</th>\n",
       "      <th>customer_id</th>\n",
       "      <th>order_status</th>\n",
       "    </tr>\n",
       "    <tr>\n",
       "      <th>customer_id</th>\n",
       "      <th></th>\n",
       "      <th></th>\n",
       "      <th></th>\n",
       "      <th></th>\n",
       "      <th></th>\n",
       "      <th></th>\n",
       "      <th></th>\n",
       "      <th></th>\n",
       "      <th></th>\n",
       "      <th></th>\n",
       "      <th></th>\n",
       "    </tr>\n",
       "  </thead>\n",
       "  <tbody>\n",
       "    <tr>\n",
       "      <th>1001</th>\n",
       "      <td>2024-09-01</td>\n",
       "      <td>CUST005</td>\n",
       "      <td>Delivered</td>\n",
       "      <td>NaN</td>\n",
       "      <td>NaN</td>\n",
       "      <td>NaN</td>\n",
       "      <td>NaN</td>\n",
       "      <td>NaN</td>\n",
       "      <td>NaN</td>\n",
       "      <td>1001</td>\n",
       "      <td>NaN</td>\n",
       "    </tr>\n",
       "    <tr>\n",
       "      <th>1002</th>\n",
       "      <td>2024-09-01</td>\n",
       "      <td>CUST012</td>\n",
       "      <td>Processing</td>\n",
       "      <td>NaN</td>\n",
       "      <td>NaN</td>\n",
       "      <td>NaN</td>\n",
       "      <td>NaN</td>\n",
       "      <td>NaN</td>\n",
       "      <td>2024-09-01</td>\n",
       "      <td>1002</td>\n",
       "      <td>Processing</td>\n",
       "    </tr>\n",
       "    <tr>\n",
       "      <th>1003</th>\n",
       "      <td>2024-09-02</td>\n",
       "      <td>CUST020</td>\n",
       "      <td>Shipped</td>\n",
       "      <td>NaN</td>\n",
       "      <td>NaN</td>\n",
       "      <td>NaN</td>\n",
       "      <td>NaN</td>\n",
       "      <td>NaN</td>\n",
       "      <td>2024-09-02</td>\n",
       "      <td>1003</td>\n",
       "      <td>Shipped</td>\n",
       "    </tr>\n",
       "    <tr>\n",
       "      <th>1004</th>\n",
       "      <td>2024-09-03</td>\n",
       "      <td>CUST005</td>\n",
       "      <td>Cancelled</td>\n",
       "      <td>NaN</td>\n",
       "      <td>NaN</td>\n",
       "      <td>NaN</td>\n",
       "      <td>NaN</td>\n",
       "      <td>NaN</td>\n",
       "      <td>2024-09-03</td>\n",
       "      <td>1004</td>\n",
       "      <td>Cancelled</td>\n",
       "    </tr>\n",
       "    <tr>\n",
       "      <th>1005</th>\n",
       "      <td>2024-09-03</td>\n",
       "      <td>CUST018</td>\n",
       "      <td>Delivered</td>\n",
       "      <td>NaN</td>\n",
       "      <td>NaN</td>\n",
       "      <td>NaN</td>\n",
       "      <td>NaN</td>\n",
       "      <td>NaN</td>\n",
       "      <td>2024-09-03</td>\n",
       "      <td>1005</td>\n",
       "      <td>Delivered</td>\n",
       "    </tr>\n",
       "    <tr>\n",
       "      <th>1006</th>\n",
       "      <td>2024-09-04</td>\n",
       "      <td>CUST001</td>\n",
       "      <td>Processing</td>\n",
       "      <td>NaN</td>\n",
       "      <td>NaN</td>\n",
       "      <td>NaN</td>\n",
       "      <td>NaN</td>\n",
       "      <td>NaN</td>\n",
       "      <td>2024-09-04</td>\n",
       "      <td>1006</td>\n",
       "      <td>Processing</td>\n",
       "    </tr>\n",
       "    <tr>\n",
       "      <th>1007</th>\n",
       "      <td>2024-09-05</td>\n",
       "      <td>CUST012</td>\n",
       "      <td>Shipped</td>\n",
       "      <td>NaN</td>\n",
       "      <td>NaN</td>\n",
       "      <td>NaN</td>\n",
       "      <td>NaN</td>\n",
       "      <td>NaN</td>\n",
       "      <td>2024-09-05</td>\n",
       "      <td>1007</td>\n",
       "      <td>Shipped</td>\n",
       "    </tr>\n",
       "    <tr>\n",
       "      <th>1008</th>\n",
       "      <td>2024-09-05</td>\n",
       "      <td>CUST025</td>\n",
       "      <td>Delivered</td>\n",
       "      <td>NaN</td>\n",
       "      <td>NaN</td>\n",
       "      <td>NaN</td>\n",
       "      <td>NaN</td>\n",
       "      <td>NaN</td>\n",
       "      <td>2024-09-05</td>\n",
       "      <td>1008</td>\n",
       "      <td>Delivered</td>\n",
       "    </tr>\n",
       "  </tbody>\n",
       "</table>\n",
       "</div>"
      ],
      "text/plain": [
       "            customer_fname customer_lname customer_email  customer_password  \\\n",
       "customer_id                                                                   \n",
       "1001            2024-09-01        CUST005      Delivered                NaN   \n",
       "1002            2024-09-01        CUST012     Processing                NaN   \n",
       "1003            2024-09-02        CUST020        Shipped                NaN   \n",
       "1004            2024-09-03        CUST005      Cancelled                NaN   \n",
       "1005            2024-09-03        CUST018      Delivered                NaN   \n",
       "1006            2024-09-04        CUST001     Processing                NaN   \n",
       "1007            2024-09-05        CUST012        Shipped                NaN   \n",
       "1008            2024-09-05        CUST025      Delivered                NaN   \n",
       "\n",
       "             customer_street  customer_city  customer_state  customer_zipcode  \\\n",
       "customer_id                                                                     \n",
       "1001                     NaN            NaN             NaN               NaN   \n",
       "1002                     NaN            NaN             NaN               NaN   \n",
       "1003                     NaN            NaN             NaN               NaN   \n",
       "1004                     NaN            NaN             NaN               NaN   \n",
       "1005                     NaN            NaN             NaN               NaN   \n",
       "1006                     NaN            NaN             NaN               NaN   \n",
       "1007                     NaN            NaN             NaN               NaN   \n",
       "1008                     NaN            NaN             NaN               NaN   \n",
       "\n",
       "             order_date customer_id order_status  \n",
       "customer_id                                       \n",
       "1001                NaN        1001          NaN  \n",
       "1002         2024-09-01        1002   Processing  \n",
       "1003         2024-09-02        1003      Shipped  \n",
       "1004         2024-09-03        1004    Cancelled  \n",
       "1005         2024-09-03        1005    Delivered  \n",
       "1006         2024-09-04        1006   Processing  \n",
       "1007         2024-09-05        1007      Shipped  \n",
       "1008         2024-09-05        1008    Delivered  "
      ]
     },
     "execution_count": 124,
     "metadata": {},
     "output_type": "execute_result"
    }
   ],
   "source": [
    "customer_orders = customers.join(order, on='customer_id', how='left')\n",
    "customer_orders"
   ]
  },
  {
   "cell_type": "code",
   "execution_count": null,
   "id": "358ad0ca",
   "metadata": {},
   "outputs": [
    {
     "ename": "ValueError",
     "evalue": "You are trying to merge on int64 and object columns for key 'customer_id'. If you wish to proceed you should use pd.concat",
     "output_type": "error",
     "traceback": [
      "\u001b[31m---------------------------------------------------------------------------\u001b[39m",
      "\u001b[31mValueError\u001b[39m                                Traceback (most recent call last)",
      "\u001b[36mCell\u001b[39m\u001b[36m \u001b[39m\u001b[32mIn[125]\u001b[39m\u001b[32m, line 1\u001b[39m\n\u001b[32m----> \u001b[39m\u001b[32m1\u001b[39m result = \u001b[43mpd\u001b[49m\u001b[43m.\u001b[49m\u001b[43mmerge\u001b[49m\u001b[43m(\u001b[49m\u001b[43mcustomers\u001b[49m\u001b[43m,\u001b[49m\u001b[43m \u001b[49m\u001b[43morder\u001b[49m\u001b[43m,\u001b[49m\u001b[43m \u001b[49m\u001b[43mon\u001b[49m\u001b[43m \u001b[49m\u001b[43m=\u001b[49m\u001b[43m \u001b[49m\u001b[33;43m'\u001b[39;49m\u001b[33;43mcustomer_id\u001b[39;49m\u001b[33;43m'\u001b[39;49m\u001b[43m,\u001b[49m\u001b[43m \u001b[49m\u001b[43mhow\u001b[49m\u001b[43m=\u001b[49m\u001b[33;43m'\u001b[39;49m\u001b[33;43minner\u001b[39;49m\u001b[33;43m'\u001b[39;49m\u001b[43m)\u001b[49m\n\u001b[32m      2\u001b[39m \u001b[38;5;28mprint\u001b[39m(customers)\n\u001b[32m      4\u001b[39m \u001b[38;5;66;03m#on - > columns should be same in both dataframe\u001b[39;00m\n",
      "\u001b[36mFile \u001b[39m\u001b[32mc:\\Users\\punitkumar.more\\Documents\\Elisa\\gcp_de\\GCP_DE\\AUTOMATION\\myenv\\Lib\\site-packages\\pandas\\core\\reshape\\merge.py:170\u001b[39m, in \u001b[36mmerge\u001b[39m\u001b[34m(left, right, how, on, left_on, right_on, left_index, right_index, sort, suffixes, copy, indicator, validate)\u001b[39m\n\u001b[32m    155\u001b[39m     \u001b[38;5;28;01mreturn\u001b[39;00m _cross_merge(\n\u001b[32m    156\u001b[39m         left_df,\n\u001b[32m    157\u001b[39m         right_df,\n\u001b[32m   (...)\u001b[39m\u001b[32m    167\u001b[39m         copy=copy,\n\u001b[32m    168\u001b[39m     )\n\u001b[32m    169\u001b[39m \u001b[38;5;28;01melse\u001b[39;00m:\n\u001b[32m--> \u001b[39m\u001b[32m170\u001b[39m     op = \u001b[43m_MergeOperation\u001b[49m\u001b[43m(\u001b[49m\n\u001b[32m    171\u001b[39m \u001b[43m        \u001b[49m\u001b[43mleft_df\u001b[49m\u001b[43m,\u001b[49m\n\u001b[32m    172\u001b[39m \u001b[43m        \u001b[49m\u001b[43mright_df\u001b[49m\u001b[43m,\u001b[49m\n\u001b[32m    173\u001b[39m \u001b[43m        \u001b[49m\u001b[43mhow\u001b[49m\u001b[43m=\u001b[49m\u001b[43mhow\u001b[49m\u001b[43m,\u001b[49m\n\u001b[32m    174\u001b[39m \u001b[43m        \u001b[49m\u001b[43mon\u001b[49m\u001b[43m=\u001b[49m\u001b[43mon\u001b[49m\u001b[43m,\u001b[49m\n\u001b[32m    175\u001b[39m \u001b[43m        \u001b[49m\u001b[43mleft_on\u001b[49m\u001b[43m=\u001b[49m\u001b[43mleft_on\u001b[49m\u001b[43m,\u001b[49m\n\u001b[32m    176\u001b[39m \u001b[43m        \u001b[49m\u001b[43mright_on\u001b[49m\u001b[43m=\u001b[49m\u001b[43mright_on\u001b[49m\u001b[43m,\u001b[49m\n\u001b[32m    177\u001b[39m \u001b[43m        \u001b[49m\u001b[43mleft_index\u001b[49m\u001b[43m=\u001b[49m\u001b[43mleft_index\u001b[49m\u001b[43m,\u001b[49m\n\u001b[32m    178\u001b[39m \u001b[43m        \u001b[49m\u001b[43mright_index\u001b[49m\u001b[43m=\u001b[49m\u001b[43mright_index\u001b[49m\u001b[43m,\u001b[49m\n\u001b[32m    179\u001b[39m \u001b[43m        \u001b[49m\u001b[43msort\u001b[49m\u001b[43m=\u001b[49m\u001b[43msort\u001b[49m\u001b[43m,\u001b[49m\n\u001b[32m    180\u001b[39m \u001b[43m        \u001b[49m\u001b[43msuffixes\u001b[49m\u001b[43m=\u001b[49m\u001b[43msuffixes\u001b[49m\u001b[43m,\u001b[49m\n\u001b[32m    181\u001b[39m \u001b[43m        \u001b[49m\u001b[43mindicator\u001b[49m\u001b[43m=\u001b[49m\u001b[43mindicator\u001b[49m\u001b[43m,\u001b[49m\n\u001b[32m    182\u001b[39m \u001b[43m        \u001b[49m\u001b[43mvalidate\u001b[49m\u001b[43m=\u001b[49m\u001b[43mvalidate\u001b[49m\u001b[43m,\u001b[49m\n\u001b[32m    183\u001b[39m \u001b[43m    \u001b[49m\u001b[43m)\u001b[49m\n\u001b[32m    184\u001b[39m     \u001b[38;5;28;01mreturn\u001b[39;00m op.get_result(copy=copy)\n",
      "\u001b[36mFile \u001b[39m\u001b[32mc:\\Users\\punitkumar.more\\Documents\\Elisa\\gcp_de\\GCP_DE\\AUTOMATION\\myenv\\Lib\\site-packages\\pandas\\core\\reshape\\merge.py:807\u001b[39m, in \u001b[36m_MergeOperation.__init__\u001b[39m\u001b[34m(self, left, right, how, on, left_on, right_on, left_index, right_index, sort, suffixes, indicator, validate)\u001b[39m\n\u001b[32m    803\u001b[39m \u001b[38;5;28mself\u001b[39m._validate_tolerance(\u001b[38;5;28mself\u001b[39m.left_join_keys)\n\u001b[32m    805\u001b[39m \u001b[38;5;66;03m# validate the merge keys dtypes. We may need to coerce\u001b[39;00m\n\u001b[32m    806\u001b[39m \u001b[38;5;66;03m# to avoid incompatible dtypes\u001b[39;00m\n\u001b[32m--> \u001b[39m\u001b[32m807\u001b[39m \u001b[38;5;28;43mself\u001b[39;49m\u001b[43m.\u001b[49m\u001b[43m_maybe_coerce_merge_keys\u001b[49m\u001b[43m(\u001b[49m\u001b[43m)\u001b[49m\n\u001b[32m    809\u001b[39m \u001b[38;5;66;03m# If argument passed to validate,\u001b[39;00m\n\u001b[32m    810\u001b[39m \u001b[38;5;66;03m# check if columns specified as unique\u001b[39;00m\n\u001b[32m    811\u001b[39m \u001b[38;5;66;03m# are in fact unique.\u001b[39;00m\n\u001b[32m    812\u001b[39m \u001b[38;5;28;01mif\u001b[39;00m validate \u001b[38;5;129;01mis\u001b[39;00m \u001b[38;5;129;01mnot\u001b[39;00m \u001b[38;5;28;01mNone\u001b[39;00m:\n",
      "\u001b[36mFile \u001b[39m\u001b[32mc:\\Users\\punitkumar.more\\Documents\\Elisa\\gcp_de\\GCP_DE\\AUTOMATION\\myenv\\Lib\\site-packages\\pandas\\core\\reshape\\merge.py:1509\u001b[39m, in \u001b[36m_MergeOperation._maybe_coerce_merge_keys\u001b[39m\u001b[34m(self)\u001b[39m\n\u001b[32m   1503\u001b[39m     \u001b[38;5;66;03m# unless we are merging non-string-like with string-like\u001b[39;00m\n\u001b[32m   1504\u001b[39m     \u001b[38;5;28;01melif\u001b[39;00m (\n\u001b[32m   1505\u001b[39m         inferred_left \u001b[38;5;129;01min\u001b[39;00m string_types \u001b[38;5;129;01mand\u001b[39;00m inferred_right \u001b[38;5;129;01mnot\u001b[39;00m \u001b[38;5;129;01min\u001b[39;00m string_types\n\u001b[32m   1506\u001b[39m     ) \u001b[38;5;129;01mor\u001b[39;00m (\n\u001b[32m   1507\u001b[39m         inferred_right \u001b[38;5;129;01min\u001b[39;00m string_types \u001b[38;5;129;01mand\u001b[39;00m inferred_left \u001b[38;5;129;01mnot\u001b[39;00m \u001b[38;5;129;01min\u001b[39;00m string_types\n\u001b[32m   1508\u001b[39m     ):\n\u001b[32m-> \u001b[39m\u001b[32m1509\u001b[39m         \u001b[38;5;28;01mraise\u001b[39;00m \u001b[38;5;167;01mValueError\u001b[39;00m(msg)\n\u001b[32m   1511\u001b[39m \u001b[38;5;66;03m# datetimelikes must match exactly\u001b[39;00m\n\u001b[32m   1512\u001b[39m \u001b[38;5;28;01melif\u001b[39;00m needs_i8_conversion(lk.dtype) \u001b[38;5;129;01mand\u001b[39;00m \u001b[38;5;129;01mnot\u001b[39;00m needs_i8_conversion(rk.dtype):\n",
      "\u001b[31mValueError\u001b[39m: You are trying to merge on int64 and object columns for key 'customer_id'. If you wish to proceed you should use pd.concat"
     ]
    }
   ],
   "source": [
    "# result = pd.merge(customers, order, on = 'customer_id', how='inner')\n",
    "# print(customers)\n",
    "\n",
    "#on - > columns should be same in both dataframe"
   ]
  },
  {
   "cell_type": "code",
   "execution_count": 126,
   "id": "0d82f5db",
   "metadata": {},
   "outputs": [
    {
     "name": "stdout",
     "output_type": "stream",
     "text": [
      "          order_date customer_id order_status\n",
      "order_id                                     \n",
      "1002      2024-09-01     CUST012   Processing\n",
      "1003      2024-09-02     CUST020      Shipped\n",
      "1004      2024-09-03     CUST005    Cancelled\n",
      "1005      2024-09-03     CUST018    Delivered\n",
      "1006      2024-09-04     CUST001   Processing\n",
      "1007      2024-09-05     CUST012      Shipped\n",
      "1008      2024-09-05     CUST025    Delivered\n"
     ]
    }
   ],
   "source": [
    "print(order)"
   ]
  },
  {
   "cell_type": "code",
   "execution_count": 127,
   "id": "f8cdb4db",
   "metadata": {},
   "outputs": [
    {
     "name": "stdout",
     "output_type": "stream",
     "text": [
      "            customer_fname customer_lname customer_email  customer_password  \\\n",
      "customer_id                                                                   \n",
      "1001            2024-09-01        CUST005      Delivered                NaN   \n",
      "1002            2024-09-01        CUST012     Processing                NaN   \n",
      "1003            2024-09-02        CUST020        Shipped                NaN   \n",
      "1004            2024-09-03        CUST005      Cancelled                NaN   \n",
      "1005            2024-09-03        CUST018      Delivered                NaN   \n",
      "1006            2024-09-04        CUST001     Processing                NaN   \n",
      "1007            2024-09-05        CUST012        Shipped                NaN   \n",
      "1008            2024-09-05        CUST025      Delivered                NaN   \n",
      "\n",
      "             customer_street  customer_city  customer_state  customer_zipcode  \n",
      "customer_id                                                                    \n",
      "1001                     NaN            NaN             NaN               NaN  \n",
      "1002                     NaN            NaN             NaN               NaN  \n",
      "1003                     NaN            NaN             NaN               NaN  \n",
      "1004                     NaN            NaN             NaN               NaN  \n",
      "1005                     NaN            NaN             NaN               NaN  \n",
      "1006                     NaN            NaN             NaN               NaN  \n",
      "1007                     NaN            NaN             NaN               NaN  \n",
      "1008                     NaN            NaN             NaN               NaN  \n"
     ]
    }
   ],
   "source": [
    "print(customers)"
   ]
  },
  {
   "cell_type": "markdown",
   "id": "bdb4a88b",
   "metadata": {},
   "source": [
    "orderitem = pd.read_csv('part_order_item.txt', names=get_columns_names(db_schemas,'order_items'))\n",
    "print(orderitem.head()) \n",
    "\n",
    "product = pd.read_csv('part_product.txt', names=get_columns_names(db_schemas,'order_items'))\n",
    "print(orderitem.head()) \n",
    "\n",
    "orderitem = orderitem.set_index('order_id')\n",
    "product =  product.set_index('product_id')\n",
    "\n",
    "join_product_order = orderitem.join(product, how='inner')\n",
    "print(join_product_order.head())\n",
    "join_product_order = orderitem.join(product, how='left')\n",
    "print(join_product_order.head())\n",
    "\n",
    "\n",
    "join_product_order['TotalValue'] = join_product_order['order_item_quantily'] * join_product_order['price']\n",
    "print(join_product_order.head())\n",
    "aggre = join_product_order.groupby('order_id')['TotalValue'].sum().reset_index()\n",
    "print(aggre.head())\n",
    "\n",
    "join_product_order['TotalValue'] = join_product_order['order_item_quantily'] * join_product_order['price']\n",
    "print(join_product_order.head())\n",
    "aggre = join_product_order.groupby('order_id')['TotalValue'].mean().reset_index()\n",
    "print(aggre.head())\n"
   ]
  },
  {
   "cell_type": "code",
   "execution_count": null,
   "id": "23d86141",
   "metadata": {},
   "outputs": [
    {
     "ename": "NameError",
     "evalue": "name 'customer_orders' is not defined",
     "output_type": "error",
     "traceback": [
      "\u001b[31m---------------------------------------------------------------------------\u001b[39m",
      "\u001b[31mNameError\u001b[39m                                 Traceback (most recent call last)",
      "\u001b[36mCell\u001b[39m\u001b[36m \u001b[39m\u001b[32mIn[50]\u001b[39m\u001b[32m, line 3\u001b[39m\n\u001b[32m      1\u001b[39m \u001b[38;5;66;03m#Sort data using pandas dataframe\u001b[39;00m\n\u001b[32m----> \u001b[39m\u001b[32m3\u001b[39m \u001b[43mcustomer_orders\u001b[49m\n",
      "\u001b[31mNameError\u001b[39m: name 'customer_orders' is not defined"
     ]
    }
   ],
   "source": [
    "#Sort data using pandas dataframe\n",
    "\n",
    "# customer_orders"
   ]
  },
  {
   "cell_type": "code",
   "execution_count": 128,
   "id": "3881213e",
   "metadata": {},
   "outputs": [],
   "source": [
    "NEW_CSV = customers.sort_values(['customer_id','customer_lname'],ascending=[False,True]).head(4)"
   ]
  },
  {
   "cell_type": "code",
   "execution_count": 129,
   "id": "d5218b4d",
   "metadata": {},
   "outputs": [
    {
     "name": "stdout",
     "output_type": "stream",
     "text": [
      "{\"cu\n"
     ]
    }
   ],
   "source": [
    "NEW_CSV.to_csv('new_customers.csv', index=False)\n",
    "NEW_CSV.to_csv('new_customers.xlsx', index=False)\n",
    "json_data = NEW_CSV.to_json('new_customers.json', orient='records', lines=True)\n",
    "json_str = NEW_CSV.to_json(orient='records', lines=True)\n",
    "print(json_str[:4])\n"
   ]
  },
  {
   "cell_type": "code",
   "execution_count": null,
   "id": "a1d21b6e",
   "metadata": {},
   "outputs": [],
   "source": [
    "import glob\n",
    "import pprint as pp\n",
    "import os\n",
    "\n",
    "file_path_list = []\n",
    "for i in glob.iglob('retail_db/*/*.txt', recursive=True):\n",
    "    file_path_list.append(i)\n",
    "file_path_list.sort()\n",
    "print(f'Extracted the File path : ')\n",
    "pp.pprint(file_path_list)\n",
    "print(\"****\"*25)\n",
    "\n",
    "for i,file in enumerate(file_path_list):\n",
    "    print(file)\n",
    "    base_file_name = os.path.splitext(os.path.basename(file))\n",
    "    print(base_file_name)"
   ]
  }
 ],
 "metadata": {
  "kernelspec": {
   "display_name": "myenv",
   "language": "python",
   "name": "python3"
  },
  "language_info": {
   "codemirror_mode": {
    "name": "ipython",
    "version": 3
   },
   "file_extension": ".py",
   "mimetype": "text/x-python",
   "name": "python",
   "nbconvert_exporter": "python",
   "pygments_lexer": "ipython3",
   "version": "3.11.9"
  }
 },
 "nbformat": 4,
 "nbformat_minor": 5
}
