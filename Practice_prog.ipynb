{
 "cells": [
  {
   "cell_type": "code",
   "execution_count": 1,
   "metadata": {},
   "outputs": [
    {
     "name": "stdout",
     "output_type": "stream",
     "text": [
      "None\n",
      "largetst number is :  8\n"
     ]
    }
   ],
   "source": [
    "# Write a program that asks the user for three numbers and displays the\n",
    "# largest one\n",
    "\n",
    "\n",
    "num1=8\n",
    "num2=7\n",
    "num3=8\n",
    "\n",
    "lastest_sort= [num1,num2,num3]\n",
    "print(lastest_sort.sort())\n",
    "\n",
    "if num1 > num2 and num1>num3:\n",
    "    lasterst_number = num1\n",
    "elif num2>num1 and num2>num3:\n",
    "    lasterst_number=num2\n",
    "    \n",
    "else:\n",
    "    lasterst_number=num3\n",
    "\n",
    "print(\"largetst number is : \" ,lasterst_number)"
   ]
  },
  {
   "cell_type": "code",
   "execution_count": 2,
   "metadata": {},
   "outputs": [
    {
     "name": "stdout",
     "output_type": "stream",
     "text": [
      "total_mean : 27.5\n"
     ]
    }
   ],
   "source": [
    "num1 = int(input('Enter the num1 : '))\n",
    "num2 = int(input(\"Enter the second num2 : \"))\n",
    "\n",
    "def mean_calculate(x,y):\n",
    "    mean = (x+y)/2\n",
    "    return mean\n",
    "\n",
    "total_mean = mean_calculate(num1,num2)\n",
    "print('total_mean : {0}'.format(total_mean))"
   ]
  },
  {
   "cell_type": "code",
   "execution_count": null,
   "metadata": {},
   "outputs": [
    {
     "name": "stdout",
     "output_type": "stream",
     "text": [
      "2\n",
      "4\n",
      "6\n",
      "8\n"
     ]
    }
   ],
   "source": [
    "for num in range(2,10,2):\n",
    "    print(num)\n"
   ]
  },
  {
   "cell_type": "code",
   "execution_count": null,
   "metadata": {},
   "outputs": [
    {
     "ename": "",
     "evalue": "",
     "output_type": "error",
     "traceback": [
      "\u001b[1;31mFailed to start the Kernel. \n",
      "\u001b[1;31mUnable to start Kernel 'Python 3.10.4' due to a timeout waiting for the ports to get used. \n",
      "\u001b[1;31mView Jupyter <a href='command:jupyter.viewOutput'>log</a> for further details."
     ]
    }
   ],
   "source": [
    "for num in range(1,40):\n",
    "    if num<=20:\n",
    "        if num%2==0:\n",
    "            print(\"even number: \", num)\n",
    "    if num>=20:\n",
    "        if num%2 != 0:\n",
    "            print(\"odd number:\", num)\n"
   ]
  },
  {
   "cell_type": "code",
   "execution_count": 1,
   "metadata": {},
   "outputs": [
    {
     "name": "stdout",
     "output_type": "stream",
     "text": [
      "32\n",
      "64\n",
      "96\n",
      "128\n",
      "160\n",
      "192\n",
      "224\n",
      "256\n",
      "288\n",
      "320\n"
     ]
    }
   ],
   "source": [
    "num = int(input(\"enter the nu\"))\n",
    "for i in range(1,11):\n",
    "    print(num*i)"
   ]
  },
  {
   "cell_type": "code",
   "execution_count": null,
   "metadata": {},
   "outputs": [
    {
     "name": "stdout",
     "output_type": "stream",
     "text": [
      "1 X 1 = 1\n",
      "1 X 2 = 2\n",
      "1 X 3 = 3\n",
      "1 X 4 = 4\n",
      "2 X 1 = 2\n",
      "2 X 2 = 4\n",
      "2 X 3 = 6\n",
      "2 X 4 = 8\n",
      "3 X 1 = 3\n",
      "3 X 2 = 6\n",
      "3 X 3 = 9\n",
      "3 X 4 = 12\n",
      "4 X 1 = 4\n",
      "4 X 2 = 8\n",
      "4 X 3 = 12\n",
      "4 X 4 = 16\n"
     ]
    }
   ],
   "source": [
    "# num = int(input(\"enter the nu\")/)\n",
    "for i in range(1,5):\n",
    "    for j in range(1,5):\n",
    "        product = i*j\n",
    "        print(i, \"X\", j, \"=\", product)\n",
    "\n",
    "        \n",
    "    # print(i, \"X\", j, \"=\", product, end ='\\t')"
   ]
  },
  {
   "cell_type": "code",
   "execution_count": 14,
   "metadata": {},
   "outputs": [
    {
     "name": "stdout",
     "output_type": "stream",
     "text": [
      "sum od N number : 10\n"
     ]
    }
   ],
   "source": [
    "#write a program that that ask a user for number N and display all the numbers from 1 to N\n",
    "sum=0\n",
    "N = int(input(\"Enter the number\"))\n",
    "for i in range(1,N+1):\n",
    "    sum = sum+i\n",
    "print(\"sum od N number :\", sum )\n"
   ]
  },
  {
   "cell_type": "code",
   "execution_count": null,
   "metadata": {},
   "outputs": [
    {
     "name": "stdout",
     "output_type": "stream",
     "text": [
      "12\n"
     ]
    }
   ],
   "source": [
    "num = int(input(\"Enter the number\"))\n",
    "even_sum = 0\n",
    "for i in range(1, N+1):\n",
    "    if i % 2 == 0:\n",
    "        even_sum=even_sum+i\n",
    "print(even_sum)"
   ]
  },
  {
   "cell_type": "code",
   "execution_count": null,
   "metadata": {},
   "outputs": [
    {
     "name": "stdout",
     "output_type": "stream",
     "text": [
      "Prime numbers less than 40: [2, 3, 5, 7, 11, 13, 17, 19, 23, 29, 31, 37]\n"
     ]
    }
   ],
   "source": [
    "def sieve_of_eratosthenes(N):\n",
    "    primes = [True] * N  # Assume all numbers are prime\n",
    "    primes[0] = primes[1] = False  # 0 and 1 are not prime\n",
    "    \n",
    "    for i in range(2, int(N ** 0.5) + 1):\n",
    "        if primes[i]:\n",
    "            for j in range(i * i, N, i):  # Mark multiples of i as non-prime\n",
    "                primes[j] = False\n",
    "    \n",
    "    return [i for i in range(N) if primes[i]]\n",
    "\n",
    "N = int(input(\"Enter a number N: \"))\n",
    "print(f\"Prime numbers less than {N}: {sieve_of_eratosthenes(N)}\")\n"
   ]
  },
  {
   "cell_type": "code",
   "execution_count": 2,
   "metadata": {},
   "outputs": [
    {
     "name": "stdout",
     "output_type": "stream",
     "text": [
      "Square of number 1 : 1\n",
      "Square of number 2 : 4\n",
      "Square of number 3 : 9\n",
      "Square of number 4 : 16\n"
     ]
    }
   ],
   "source": [
    "#find the perfect square of number \n",
    "num = int(input(\"Enter the num : \"))\n",
    "for i in range (1,num+1):\n",
    "    square = i**2\n",
    "    print(f\"Square of number {i} : {square}\")\n"
   ]
  },
  {
   "cell_type": "code",
   "execution_count": null,
   "metadata": {},
   "outputs": [
    {
     "name": "stdout",
     "output_type": "stream",
     "text": [
      "number between 5 and 15 are\n",
      "6\n",
      "7\n",
      "8\n",
      "9\n",
      "10\n",
      "11\n",
      "12\n",
      "13\n",
      "14\n"
     ]
    }
   ],
   "source": [
    "# Write a program that prompts the user for two numbers A and B and displays all numbers between A and B.\n",
    "num1 = int(input(\"Enter the first number\"))\n",
    "num2 = int(input(\"Enter the second num2\"))\n",
    "if num1<=num2:\n",
    "    start=num1\n",
    "    end=num2\n",
    "else :\n",
    "    start=num2\n",
    "    end=num1\n",
    "print(f\"number between {start} and {end} are\")\n",
    "for i in range(start+1, end):\n",
    "    print(f\"{i}\")"
   ]
  },
  {
   "cell_type": "code",
   "execution_count": null,
   "metadata": {},
   "outputs": [
    {
     "name": "stdout",
     "output_type": "stream",
     "text": [
      "sum is :4\n",
      "sum is :7\n",
      "sum is :11\n",
      "sum is :13\n",
      "sum is :16\n",
      "sum is :18\n",
      "sum is :22\n",
      "sum is :24\n",
      "sum is :25\n",
      "sum is :27\n",
      "sum is :29\n",
      "sum is :31\n",
      "negative number\n"
     ]
    }
   ],
   "source": [
    "#sum of all positive number \n",
    "sum = 0\n",
    "while True:\n",
    "    num = int(input(\"Enter the num\"))\n",
    "    if num>=0:\n",
    "        sum = sum + num\n",
    "        print(f\"sum is :{sum}\")\n",
    "    else:\n",
    "        print(\"negative number\")\n",
    "        break"
   ]
  },
  {
   "cell_type": "code",
   "execution_count": null,
   "metadata": {},
   "outputs": [
    {
     "name": "stdout",
     "output_type": "stream",
     "text": [
      "Largest number: 8.0\n",
      "Smallest number: 6.0\n"
     ]
    }
   ],
   "source": [
    "numbers = []\n",
    "\n",
    "while True:\n",
    "    num = float(input(\"Enter a number (0 to stop): \"))\n",
    "    if num == 0:\n",
    "        break\n",
    "    numbers.append(num)\n",
    "\n",
    "if numbers:\n",
    "    largest = max(numbers)\n",
    "    smallest = min(numbers)\n",
    "    print(f\"Largest number: {largest}\")\n",
    "    print(f\"Smallest number: {smallest}\")\n",
    "else:\n",
    "    print(\"No numbers were entered.\")\n"
   ]
  },
  {
   "cell_type": "code",
   "execution_count": null,
   "metadata": {},
   "outputs": [
    {
     "name": "stdout",
     "output_type": "stream",
     "text": [
      "list is not empy [67.0, 989.0, 78.0, 5700.0]\n",
      "largest number : 5700.0\n",
      "min number : 67.0\n",
      "large: 5700.0\n",
      "small : 67.0\n"
     ]
    }
   ],
   "source": [
    "#find largest number from list\n",
    "num = []\n",
    "while True:\n",
    "    number=float(input(\"enter the number\"))\n",
    "    if number == 0:\n",
    "        break\n",
    "    num.append(number)\n",
    "\n",
    "if num:\n",
    "    print(f\"list is not empy {num}\")\n",
    "else :\n",
    "    print(f\"list is empy {num}\")\n",
    "\n",
    "max_number=max(num)\n",
    "min_number=min(num)\n",
    "print(f\"largest number : {max_number}\")\n",
    "print(f\"min number : {min_number}\")\n",
    "\n",
    "lasterst=num[0]\n",
    "smallest=num[0]\n",
    "for i in num[1:]:\n",
    "    if i > lasterst:\n",
    "        lasterst=i\n",
    "    elif i<smallest:\n",
    "        smallest=i\n",
    "\n",
    "print(f\"large: {lasterst}\")\n",
    "print(f\"small : {smallest}\")\n",
    "\n"
   ]
  },
  {
   "cell_type": "code",
   "execution_count": null,
   "metadata": {},
   "outputs": [
    {
     "name": "stdout",
     "output_type": "stream",
     "text": [
      "[76.0, 76.0, 67.0, 7.0, 89.0]\n",
      "Largest number: 89.0\n",
      "Smallest number: 7.0\n"
     ]
    }
   ],
   "source": [
    "numbers = []\n",
    "\n",
    "# Collect numbers until user enters 0\n",
    "while True:\n",
    "    num = float(input(\"Enter a number (0 to stop): \"))\n",
    "    if num == 0:\n",
    "        break\n",
    "    numbers.append(num)\n",
    "\n",
    "# Check if list is not empty\n",
    "if numbers:\n",
    "    # Initialize both largest and smallest with the first number\n",
    "    largest = numbers[0]\n",
    "    smallest = numbers[0]\n",
    "\n",
    "    # Loop through the list starting from second item\n",
    "    for num in numbers[1:]:\n",
    "        if num > largest:\n",
    "            largest = num\n",
    "        if num < smallest:\n",
    "            smallest = num\n",
    "    print(numbers)\n",
    "    print(f\"Largest number: {largest}\")\n",
    "    print(f\"Smallest number: {smallest}\")\n",
    "else:\n",
    "    print(\"No numbers were entered.\")\n"
   ]
  },
  {
   "cell_type": "code",
   "execution_count": null,
   "metadata": {},
   "outputs": [
    {
     "name": "stdout",
     "output_type": "stream",
     "text": [
      "7226\n",
      "Vowels in sentence : 0\n",
      "Consolent are 4\n"
     ]
    }
   ],
   "source": [
    "#find the number of vowels in sentence \n",
    "\n",
    "sentence = input(\"Enter the sentence\")\n",
    "print(sentence)\n",
    "vowel = 0\n",
    "consolent = 0 \n",
    "for char in sentence:\n",
    "    if char in \"aeiuoAEIOU\":\n",
    "        vowel = vowel+1\n",
    "    else : \n",
    "        consolent = consolent + 1\n",
    "\n",
    "print(f\"Vowels in sentence : {vowel}\")\n",
    "print(f\"Consolent are {consolent}\")"
   ]
  },
  {
   "cell_type": "code",
   "execution_count": null,
   "metadata": {},
   "outputs": [
    {
     "name": "stdout",
     "output_type": "stream",
     "text": [
      "292\n"
     ]
    }
   ],
   "source": [
    "maxi = max(29,292)\n",
    "print(maxi)"
   ]
  },
  {
   "cell_type": "code",
   "execution_count": 21,
   "metadata": {},
   "outputs": [
    {
     "name": "stdout",
     "output_type": "stream",
     "text": [
      "LCM of number : 2 and 2 : 2\n"
     ]
    }
   ],
   "source": [
    "#LCM of two numbers \n",
    "num1 = int(input(\"Enter the num1\"))\n",
    "num2 = int(input(\"Enter the num2\"))\n",
    "\n",
    "maximum = max(num1,num2)\n",
    "while True:\n",
    "    if maximum % num1 == 0 and maximum % num2 == 0:\n",
    "        lcm = maximum\n",
    "        break\n",
    "    maximum = maximum+1\n",
    "    print(maximum)\n",
    "\n",
    "print(f\"LCM of number : {num1} and {num2} : {maximum}\")\n"
   ]
  },
  {
   "cell_type": "markdown",
   "metadata": {},
   "source": []
  },
  {
   "cell_type": "code",
   "execution_count": 87,
   "metadata": {},
   "outputs": [
    {
     "name": "stdout",
     "output_type": "stream",
     "text": [
      "GCD of 34 and 22 : 1\n"
     ]
    }
   ],
   "source": [
    "#find gcd of two numbers --wrong code \n",
    "num1 = int(input(\"Enter the num1\"))\n",
    "num2 = int(input(\"Enter the num2\"))\n",
    "\n",
    "smallest = min(num1,num2)\n",
    "\n",
    "gcd = 1\n",
    "\n",
    "for i in range (1, smallest+1):\n",
    "    if num1 % i == 0 and num2 %i == 0:\n",
    "        gdc = i\n",
    "\n",
    "print(f'GCD of {num1} and {num2} : {gcd}')\n"
   ]
  },
  {
   "cell_type": "code",
   "execution_count": null,
   "metadata": {},
   "outputs": [
    {
     "name": "stdout",
     "output_type": "stream",
     "text": [
      "Punit\n",
      "Punit\n",
      "Punit\n"
     ]
    }
   ],
   "source": [
    "for i in range(-5,-2,1):\n",
    "    print(\"Punit\")"
   ]
  },
  {
   "cell_type": "code",
   "execution_count": null,
   "metadata": {},
   "outputs": [
    {
     "name": "stdout",
     "output_type": "stream",
     "text": [
      "Sum of all elements: 150\n"
     ]
    }
   ],
   "source": [
    "# Define the array\n",
    "arr = [10, 20, 30, 40, 50]\n",
    "\n",
    "# Initialize sum\n",
    "total = 0\n",
    "\n",
    "# Loop through the array and add each element to total\n",
    "for num in arr:\n",
    "    total += num\n",
    "\n",
    "# Print the result\n",
    "print(f\"Sum of all elements: {total}\")\n",
    "\n"
   ]
  },
  {
   "cell_type": "code",
   "execution_count": 3,
   "metadata": {},
   "outputs": [
    {
     "name": "stdout",
     "output_type": "stream",
     "text": [
      "[21, 23, 12]\n",
      "56\n"
     ]
    }
   ],
   "source": [
    "n = int(input(\"Enter the no of Elements\"))\n",
    " #initialize the array \n",
    "\n",
    "array = []\n",
    "#read element from user \n",
    "i = 0\n",
    "while i<n:\n",
    "    element = int(input(\"Enter the Element {}: \".format(i+1)))\n",
    "    array.append(element)\n",
    "    i = i+1\n",
    "    \n",
    "print(array)\n",
    "\n",
    "#calculate the sum\n",
    "sum = 0 \n",
    "i = 0\n",
    "while i < len(array):\n",
    "    sum = sum + array[i]\n",
    "    i = i + 1\n",
    "\n",
    "print(sum)"
   ]
  },
  {
   "cell_type": "code",
   "execution_count": 2,
   "metadata": {},
   "outputs": [
    {
     "name": "stdout",
     "output_type": "stream",
     "text": [
      "No of element to array :  3\n",
      "['3', '32', '12']\n",
      "32\n"
     ]
    }
   ],
   "source": [
    "n = int(input(\"Enter the number of elements\"))\n",
    "print( \"No of element to array : \", n)\n",
    "array = []\n",
    "i=0\n",
    "while i < n:\n",
    "    element = input(\"Enter the elements of array : \")\n",
    "    array.append(element)\n",
    "    i = i + 1\n",
    "largest = array[0]\n",
    "print(array)\n",
    "for i in range(1,n):\n",
    "    if array[i] > largest:\n",
    "        largest = array[i]\n",
    "print(largest)\n"
   ]
  },
  {
   "cell_type": "code",
   "execution_count": 4,
   "metadata": {},
   "outputs": [
    {
     "name": "stdout",
     "output_type": "stream",
     "text": [
      "['12', '43']\n",
      "12\n",
      "43\n",
      "Largest element is: 43\n"
     ]
    }
   ],
   "source": [
    "n = int(input(\"Enter the no of element\"))\n",
    "i = 0\n",
    "new_list = []\n",
    "while i < n:\n",
    "    element = input(\"Enter the elements\")\n",
    "    new_list.append(element)\n",
    "    i = i+1\n",
    "print(new_list)\n",
    "\n",
    "largest = new_list[0]\n",
    "# print(largest)\n",
    "# array_len = len(new_list)\n",
    "\n",
    "# print(array_len)\n",
    "for i in range(len(new_list)):\n",
    "    print(new_list[i])\n",
    "    # print(f\"{ind} : {val}\")\n",
    "    if new_list[i] > largest:\n",
    "        largest = new_list[i]\n",
    "\n",
    "print(\"Largest element is:\", largest)\n",
    "\n"
   ]
  },
  {
   "cell_type": "code",
   "execution_count": 6,
   "metadata": {},
   "outputs": [
    {
     "name": "stdout",
     "output_type": "stream",
     "text": [
      "The no of Element are : 3\n",
      "23\t12\t32\t\n",
      "array_list : [23, 12, 32]\n",
      "sum of array list : 67\n",
      "Average of array list : 22.333333333333332 3\n"
     ]
    }
   ],
   "source": [
    "#sum and avaerage of array element\n",
    "n = int(input(\"Enter the no of element : \"))\n",
    "print(f\"The no of Element are : {n}\")\n",
    "\n",
    "i = 0\n",
    "new_list = []\n",
    "while i < n:\n",
    "    element = int(input(\"Enter the element :\"))\n",
    "    print(element,end='\\t')\n",
    "    new_list.append(element)\n",
    "    i = i + 1\n",
    "print()\n",
    "print(f\"array_list : {new_list}\" )\n",
    "\n",
    "sum = 0\n",
    "for i in new_list:\n",
    "    sum = sum + i\n",
    "print(f'sum of array list : {sum}')\n",
    "\n",
    "print(\"Average of array list : {0} {1}\".format(sum/n, n),end='\\n')\n"
   ]
  },
  {
   "cell_type": "code",
   "execution_count": null,
   "metadata": {},
   "outputs": [
    {
     "name": "stdout",
     "output_type": "stream",
     "text": [
      "The no of elements 4\n",
      "34\n",
      "45\n",
      "54\n",
      "34\n",
      " array list : [34, 45, 54, 34]\n",
      "0\n",
      "1\n",
      "2\n",
      "array not in sorted aorder\n"
     ]
    }
   ],
   "source": [
    "#check weather the giver input array element are is sorted order or not\n",
    "n = int(input(\"Enter the elements of array : \"))\n",
    "print(f'The no of elements {n}')\n",
    "\n",
    "array = []\n",
    "i = 0 \n",
    "while i < n:\n",
    "    element = int(input(\"Enter the elements :\"))\n",
    "    print(element)\n",
    "    array.append(element)\n",
    "    i += 1\n",
    "print(f' array list : {array}')\n",
    "\n",
    "\n",
    "for i in range(n-1):\n",
    "    print(i)\n",
    "    if array[i] < array[i+1]:\n",
    "        is_ascending_order = True\n",
    "    else : \n",
    "        is_ascending_order = False\n",
    "        break\n",
    "\n",
    "if is_ascending_order:\n",
    "    print(\"array is in sorted order\")\n",
    "else:\n",
    "    print(\"array not in sorted aorder\")\n",
    "\n",
    "\n"
   ]
  },
  {
   "cell_type": "code",
   "execution_count": null,
   "metadata": {},
   "outputs": [
    {
     "name": "stdout",
     "output_type": "stream",
     "text": [
      "[43, 45, 56, 56, 58, 75]\n"
     ]
    }
   ],
   "source": [
    "def desc_sort(list):\n",
    "    for i in range(len(list)-1):\n",
    "        for j in range(len(list)-1):\n",
    "            if list[j] > list[j+1]:\n",
    "                list[j],list[j+1] = list[j+1],list[j]\n",
    "    return list      \n",
    "\n",
    "n = int(input(\"Enter the no of lelement : \"))\n",
    "\n",
    "# desc_sort(new_list)\n",
    "print(desc_sort(new_list))"
   ]
  },
  {
   "cell_type": "code",
   "execution_count": 17,
   "metadata": {},
   "outputs": [
    {
     "name": "stdout",
     "output_type": "stream",
     "text": [
      "[75, 58, 56, 56, 45, 43]\n",
      "hi\n",
      "43 hi\n",
      "45 hi\n",
      "56 hi\n",
      "56 hi\n",
      "58 hi\n",
      "75 "
     ]
    }
   ],
   "source": [
    "#WAP to print the array in descending order\n",
    "def desc_sort(lst):\n",
    "    n = len(lst)\n",
    "    for i in range(n):\n",
    "        for j in range(n-1):\n",
    "            if lst[j] < lst[j + 1]:\n",
    "                # Swap\n",
    "                lst[j], lst[j + 1] = lst[j + 1], lst[j]\n",
    "    return lst\n",
    "\n",
    "new_list = [45, 56, 43, 56, 75, 58]\n",
    "print(desc_sort(new_list))  # Output will be sorted in descending order\n",
    "\n",
    "\n",
    "for i in range(len(new_list)-1,-1,-1):\n",
    "    print(\"hi\")\n",
    "    print(new_list[i], end=' ')"
   ]
  },
  {
   "cell_type": "code",
   "execution_count": null,
   "metadata": {},
   "outputs": [
    {
     "name": "stdout",
     "output_type": "stream",
     "text": [
      "[65, 53, 23, 53]\n",
      "[45, 65, 53, 23, 53, 34, 43]\n",
      "[33, 45, 65, 53, 23, 53, 34, 43]\n",
      "[53, 53, 45]\n",
      "[45, 65]\n",
      "[]\n",
      "[65, 45]\n"
     ]
    }
   ],
   "source": [
    "n = [43,34,53,23,53,65,45,33]\n",
    "\n",
    "print(n[5:1:-1])\n",
    "print(n[6::-1])\n",
    "print(n[::-1])\n",
    "print(n[2:7:2])\n",
    "print(n[-2:-4:-1])\n",
    "print(n[-3:2])\n",
    "print(n[-3:-1])"
   ]
  },
  {
   "cell_type": "code",
   "execution_count": null,
   "metadata": {},
   "outputs": [
    {
     "name": "stdout",
     "output_type": "stream",
     "text": [
      "4\n",
      "array list : [34, 43, 34, 55]\n",
      "Target no to be seach in list is : 34\n",
      "2 : 0\n"
     ]
    }
   ],
   "source": [
    "n = int(input(\"Enter the no of elements :\"))\n",
    "print(n)\n",
    "\n",
    "array_list = []\n",
    "for i in range(n):\n",
    "    element = int(input(\"Enter the elements: \"))\n",
    "    array_list.append(element)\n",
    "print(f\"array list : {array_list}\")\n",
    "\n",
    "trg_find = int(input(\"Enter the no to search : \"))\n",
    "\n",
    "print(f'Target no to be seach in list is : {trg_find}')\n",
    "\n",
    "position = []\n",
    "count = 0\n",
    "for i in range(0,n):\n",
    "    if array_list[i] == trg_find:\n",
    "        count = count+1\n",
    "        position.append(i)\n",
    "\n",
    "# for ele in array_list:                #both logic works\n",
    "#     if ele == trg_find:\n",
    "#         count = count +1\n",
    "# print(f'{count} : {position}')\n"
   ]
  },
  {
   "cell_type": "code",
   "execution_count": 7,
   "metadata": {},
   "outputs": [
    {
     "name": "stdout",
     "output_type": "stream",
     "text": [
      "multiplcation is [6, 6, 20, 6]\n"
     ]
    }
   ],
   "source": [
    "multi1 = [2,3,5,3]\n",
    "multi2 = [3,2,4,2]\n",
    "\n",
    "result_mul = []\n",
    "for i in range(len(multi1)):\n",
    "    mulipli = multi1[i] * multi2[i]\n",
    "    result_mul.append(mulipli)\n",
    "\n",
    "print(f'multiplcation is {result_mul}')"
   ]
  },
  {
   "cell_type": "code",
   "execution_count": 8,
   "metadata": {},
   "outputs": [
    {
     "name": "stdout",
     "output_type": "stream",
     "text": [
      "all the no are even\n"
     ]
    }
   ],
   "source": [
    "#. Create a program that reads an array of integers and checks that all elements are even.\n",
    "\n",
    "n = [4,8]\n",
    "\n",
    "\n",
    "for i in range(len(n)):\n",
    "    if n[i] % 2 == 0:\n",
    "        is_even = True\n",
    "    else :\n",
    "        is_even = False\n",
    "        break\n",
    "\n",
    "if is_even:\n",
    "    print(\"all the no are even\")\n",
    "else :\n",
    "    print(\"not a even no\")"
   ]
  },
  {
   "cell_type": "code",
   "execution_count": null,
   "metadata": {},
   "outputs": [],
   "source": [
    "# String manupulation "
   ]
  },
  {
   "cell_type": "code",
   "execution_count": null,
   "metadata": {},
   "outputs": [
    {
     "name": "stdout",
     "output_type": "stream",
     "text": [
      "Punit More\n"
     ]
    }
   ],
   "source": [
    "word = 'Punit'\n",
    "word1 = 'More'\n",
    "\n",
    "merge_word = word+ ' '+ word1\n",
    "print(merge_word)"
   ]
  },
  {
   "cell_type": "code",
   "execution_count": null,
   "metadata": {},
   "outputs": [
    {
     "name": "stdout",
     "output_type": "stream",
     "text": [
      "Punit\tMore\t"
     ]
    }
   ],
   "source": [
    "word = 'Punit More'\n",
    "\n",
    "\n",
    "for i in word.split():\n",
    "    print(i, end='\\t')"
   ]
  },
  {
   "cell_type": "code",
   "execution_count": null,
   "metadata": {},
   "outputs": [
    {
     "name": "stdout",
     "output_type": "stream",
     "text": [
      "puni\n"
     ]
    }
   ],
   "source": [
    "print(\"puni\")"
   ]
  },
  {
   "cell_type": "code",
   "execution_count": 9,
   "metadata": {},
   "outputs": [
    {
     "name": "stdout",
     "output_type": "stream",
     "text": [
      "new string is : Medhure Petel\n"
     ]
    }
   ],
   "source": [
    "# Create a program that takes a sentence and replaces all the\n",
    "# letters \"a\" with \"e\".\n",
    "new_string = \"Madhuri Patil\"\n",
    "\n",
    "new = ''\n",
    "for i in new_string:\n",
    "    if i == 'a'or i == 'i':\n",
    "        new = new+'e'\n",
    "    else:\n",
    "        new = new+i\n",
    "print(f\"new string is : {new}\")"
   ]
  },
  {
   "cell_type": "code",
   "execution_count": null,
   "metadata": {},
   "outputs": [
    {
     "name": "stdout",
     "output_type": "stream",
     "text": [
      "not start with P\n"
     ]
    }
   ],
   "source": [
    "# Write a program that receives a name and checks that it starts with the letter \"A\"\n",
    "name='unit'\n",
    "if name.startswith('P'):\n",
    "    print('startswith P')\n",
    "else :\n",
    "    print(\"not start with P\")"
   ]
  },
  {
   "cell_type": "code",
   "execution_count": 10,
   "metadata": {},
   "outputs": [
    {
     "name": "stdout",
     "output_type": "stream",
     "text": [
      "not palindrome\n",
      "lahsak si sihT\n"
     ]
    }
   ],
   "source": [
    "#check string is palindrome or not\n",
    "\n",
    "string = 'This is kashal'\n",
    "reversed_word = string[::-1]\n",
    "if string==reversed_word:\n",
    "    print(\"paliindrome\")\n",
    "else:\n",
    "    print(\"not palindrome\")\n",
    "print(reversed_word)"
   ]
  },
  {
   "cell_type": "code",
   "execution_count": null,
   "metadata": {},
   "outputs": [
    {
     "name": "stdout",
     "output_type": "stream",
     "text": [
      "Kushal is This\n"
     ]
    }
   ],
   "source": [
    "s = 'This is Kushal'\n",
    "# Split the string into words\n",
    "words = s.split()\n",
    "# Reverse the words and convert them to lowercase\n",
    "reversed_words = reversed(words)\n",
    "# Join the reversed words back into a string\n",
    "output = ' '.join(reversed_words)\n",
    "print(output)\n"
   ]
  },
  {
   "cell_type": "code",
   "execution_count": null,
   "metadata": {},
   "outputs": [
    {
     "data": {
      "text/plain": [
       "14.5"
      ]
     },
     "execution_count": 183,
     "metadata": {},
     "output_type": "execute_result"
    }
   ],
   "source": [
    "29/2\n"
   ]
  },
  {
   "cell_type": "code",
   "execution_count": null,
   "metadata": {},
   "outputs": [],
   "source": []
  },
  {
   "cell_type": "code",
   "execution_count": null,
   "metadata": {},
   "outputs": [
    {
     "name": "stdout",
     "output_type": "stream",
     "text": [
      "punit m roe \n",
      "1\n",
      "2\n",
      "3\n",
      "no of spaces in sentence :  \"punit m roe \" : 3\n",
      "count : 1\n"
     ]
    }
   ],
   "source": [
    "#print the amount of blanks spaces in sentencse\n",
    "\n",
    "sentence = input(\"Enter the sentence\")\n",
    "print(sentence)\n",
    "count = 0\n",
    "for char in sentence:\n",
    "    if char == ' ':\n",
    "        count = count+1\n",
    "        print(count)\n",
    "print(f\"no of spaces in sentence :  \\\"{sentence}\\\" : {count}\")\n",
    "\n",
    "count = sentence.count('p')\n",
    "print(f'count : {count}')"
   ]
  },
  {
   "cell_type": "code",
   "execution_count": null,
   "metadata": {},
   "outputs": [
    {
     "name": "stdout",
     "output_type": "stream",
     "text": [
      "u i o e o o o i count = 8\n"
     ]
    }
   ],
   "source": [
    "sentence = 'Punit more good mornign'\n",
    "\n",
    "count = 0\n",
    "for char in sentence:\n",
    "    if char in 'aeiou':\n",
    "        print(char,end=' ')\n",
    "        count = count +1 \n",
    "\n",
    "print(f'count = {count}')"
   ]
  },
  {
   "cell_type": "code",
   "execution_count": 1,
   "metadata": {},
   "outputs": [
    {
     "name": "stdout",
     "output_type": "stream",
     "text": [
      "['Hi', 'Good', 'Mornign']\n",
      "Mornign\n"
     ]
    }
   ],
   "source": [
    "sentence = 'Hi Good Mornign'\n",
    "\n",
    "new_sentence = sentence.split()\n",
    "print(new_sentence)\n",
    "\n",
    "print(new_sentence[-1])"
   ]
  },
  {
   "cell_type": "code",
   "execution_count": null,
   "metadata": {},
   "outputs": [
    {
     "name": "stdout",
     "output_type": "stream",
     "text": [
      "Given no is : 5\n",
      "factorial of no 5 is 120\n"
     ]
    }
   ],
   "source": [
    "# Facatorial of no \n",
    "# 5! = 5*4*3*2*1 = 120\n",
    "\n",
    "n = int(input(\"Enter the no : \"))\n",
    "print(f\"Given no is : {n}\")\n",
    "\n",
    "if n == 0:\n",
    "    print(f'Factorial of 0 is 1')\n",
    "if n < 0 :\n",
    "    print(\"please enter the the pistiove no\")\n",
    "else : \n",
    "    fact = 1\n",
    "    for i in range(1,n+1):\n",
    "        fact = fact *i\n",
    "\n",
    "    print(f'factorial of no {n} is {fact}')\n",
    "\n",
    "\n"
   ]
  },
  {
   "cell_type": "code",
   "execution_count": null,
   "metadata": {},
   "outputs": [
    {
     "name": "stdout",
     "output_type": "stream",
     "text": [
      "ProcessLooku\n"
     ]
    }
   ],
   "source": [
    "print(\"ProcessLooku\")"
   ]
  },
  {
   "cell_type": "code",
   "execution_count": null,
   "metadata": {},
   "outputs": [
    {
     "name": "stdout",
     "output_type": "stream",
     "text": [
      "H\n",
      "e\n",
      "l\n",
      "l\n",
      "o\n",
      "Alpha count: 5\n"
     ]
    }
   ],
   "source": [
    "word = \"Hello123\"\n",
    "count = 0\n",
    "\n",
    "for w in word:\n",
    "    if w.isalpha():\n",
    "        print(w)\n",
    "        count += 1\n",
    "\n",
    "print(\"Alpha count: {}\".format(count))\n"
   ]
  },
  {
   "cell_type": "code",
   "execution_count": 11,
   "metadata": {},
   "outputs": [
    {
     "name": "stdout",
     "output_type": "stream",
     "text": [
      "Medhure Petel\n",
      "<reversed object at 0x000001F046C90520>\n",
      "l e t e P   e r u h d e M\n",
      "['kushl', 'is', 'This']\n"
     ]
    },
    {
     "data": {
      "text/plain": [
       "<function print>"
      ]
     },
     "execution_count": 11,
     "metadata": {},
     "output_type": "execute_result"
    }
   ],
   "source": [
    "s = [\"This\",\"is\", \"kushl\"]\n",
    "\n",
    "# new = s.split()\n",
    "\n",
    "print(new)\n",
    "new_list = reversed(new)\n",
    "print(new_list)\n",
    "output = ' '.join(new_list)\n",
    "print(output)\n",
    "\n",
    "out = s[::-1]\n",
    "print(out)\n",
    "print"
   ]
  },
  {
   "cell_type": "code",
   "execution_count": null,
   "metadata": {},
   "outputs": [
    {
     "name": "stdout",
     "output_type": "stream",
     "text": [
      "Kushal is This\n"
     ]
    }
   ],
   "source": [
    "s = 'This is Kushal'\n",
    "# Split the string into words\n",
    "words = s.split()\n",
    "# Reverse the words and convert them to lowercase\n",
    "reversed_words = reversed(words)\n",
    "# Join the reversed words back into a string\n",
    "output = ' '.join(reversed_words)\n",
    "print(output)"
   ]
  },
  {
   "cell_type": "code",
   "execution_count": 53,
   "metadata": {},
   "outputs": [
    {
     "name": "stdout",
     "output_type": "stream",
     "text": [
      "[' ', 's', 'i', ' ', 's', 'i', 'h', 't']\n",
      "  s i   s i h t\n"
     ]
    }
   ],
   "source": [
    "s = [\"This\", \"is\", \"kushl\"]\n",
    "s = \"this is \"\n",
    "# s.split()\n",
    "reversed_list = list((reversed(s)))\n",
    "print(reversed_list)  # Output: ['kushl', 'is', 'This']\n",
    "\n",
    "out = ' '.join(reversed_list)\n",
    "print(out)"
   ]
  },
  {
   "cell_type": "code",
   "execution_count": null,
   "metadata": {},
   "outputs": [
    {
     "name": "stdout",
     "output_type": "stream",
     "text": [
      "['apple', 'guava', 'mango']\n",
      "['kiwi']\n"
     ]
    }
   ],
   "source": [
    "# If you want to filter out elements from the list a that don't contain the letter \"a\":\n",
    "\n",
    "a = ['apple', 'kiwi', 'guava', 'mango']\n",
    "result = [item for item in a if 'a' in item]\n",
    "print(result)\n",
    "a = ['apple', 'kiwi', 'guava', 'mango']\n",
    "y = [x for x in a if 'a' not in x]\n",
    "print(y)\n"
   ]
  },
  {
   "cell_type": "code",
   "execution_count": null,
   "metadata": {},
   "outputs": [
    {
     "name": "stdout",
     "output_type": "stream",
     "text": [
      "0\n",
      "1\n",
      "2\n",
      "3\n"
     ]
    }
   ],
   "source": [
    "liste = ['apple', 'kiwi', 'guava', 'mango']\n",
    "\n",
    "for i in range(len(liste)):\n",
    "    print(i)\n",
    "    for j in range(i+1):\n",
    "        if liste[i][j] == a:\n",
    "            print(liste[i])"
   ]
  },
  {
   "cell_type": "code",
   "execution_count": null,
   "metadata": {},
   "outputs": [
    {
     "ename": "PySparkRuntimeError",
     "evalue": "[JAVA_GATEWAY_EXITED] Java gateway process exited before sending its port number.",
     "output_type": "error",
     "traceback": [
      "\u001b[1;31m---------------------------------------------------------------------------\u001b[0m",
      "\u001b[1;31mPySparkRuntimeError\u001b[0m                       Traceback (most recent call last)",
      "Cell \u001b[1;32mIn[115], line 4\u001b[0m\n\u001b[0;32m      1\u001b[0m \u001b[38;5;28;01mfrom\u001b[39;00m\u001b[38;5;250m \u001b[39m\u001b[38;5;21;01mpyspark\u001b[39;00m\u001b[38;5;21;01m.\u001b[39;00m\u001b[38;5;21;01msql\u001b[39;00m\u001b[38;5;250m \u001b[39m\u001b[38;5;28;01mimport\u001b[39;00m SparkSession\n\u001b[0;32m      3\u001b[0m \u001b[38;5;66;03m# Create SparkSession\u001b[39;00m\n\u001b[1;32m----> 4\u001b[0m spark \u001b[38;5;241m=\u001b[39m \u001b[43mSparkSession\u001b[49m\u001b[38;5;241;43m.\u001b[39;49m\u001b[43mbuilder\u001b[49m\u001b[38;5;241;43m.\u001b[39;49m\u001b[43mmaster\u001b[49m\u001b[43m(\u001b[49m\u001b[38;5;124;43m\"\u001b[39;49m\u001b[38;5;124;43mlocal\u001b[39;49m\u001b[38;5;124;43m\"\u001b[39;49m\u001b[43m)\u001b[49m\u001b[38;5;241;43m.\u001b[39;49m\u001b[43mappName\u001b[49m\u001b[43m(\u001b[49m\u001b[38;5;124;43m\"\u001b[39;49m\u001b[38;5;124;43mWord Count\u001b[39;49m\u001b[38;5;124;43m\"\u001b[39;49m\u001b[43m)\u001b[49m\u001b[38;5;241;43m.\u001b[39;49m\u001b[43mconfig\u001b[49m\u001b[43m(\u001b[49m\u001b[38;5;124;43m\"\u001b[39;49m\u001b[38;5;124;43mspark.some.config.option\u001b[39;49m\u001b[38;5;124;43m\"\u001b[39;49m\u001b[43m,\u001b[49m\u001b[43m \u001b[49m\u001b[38;5;124;43m\"\u001b[39;49m\u001b[38;5;124;43msome-value\u001b[39;49m\u001b[38;5;124;43m\"\u001b[39;49m\u001b[43m)\u001b[49m\u001b[38;5;241;43m.\u001b[39;49m\u001b[43mgetOrCreate\u001b[49m\u001b[43m(\u001b[49m\u001b[43m)\u001b[49m\n\u001b[0;32m      6\u001b[0m \u001b[38;5;66;03m# Sample data (you can also read from a CSV or database)\u001b[39;00m\n\u001b[0;32m      7\u001b[0m data \u001b[38;5;241m=\u001b[39m [\n\u001b[0;32m      8\u001b[0m     (\u001b[38;5;124m\"\u001b[39m\u001b[38;5;124mAlice\u001b[39m\u001b[38;5;124m\"\u001b[39m, \u001b[38;5;241m30\u001b[39m),\n\u001b[0;32m      9\u001b[0m     (\u001b[38;5;124m\"\u001b[39m\u001b[38;5;124mBob\u001b[39m\u001b[38;5;124m\"\u001b[39m, \u001b[38;5;241m25\u001b[39m),\n\u001b[0;32m     10\u001b[0m     (\u001b[38;5;124m\"\u001b[39m\u001b[38;5;124mCharlie\u001b[39m\u001b[38;5;124m\"\u001b[39m, \u001b[38;5;241m35\u001b[39m),\n\u001b[0;32m     11\u001b[0m     (\u001b[38;5;124m\"\u001b[39m\u001b[38;5;124mDavid\u001b[39m\u001b[38;5;124m\"\u001b[39m, \u001b[38;5;241m40\u001b[39m)\n\u001b[0;32m     12\u001b[0m ]\n",
      "File \u001b[1;32mc:\\Users\\Admin\\AppData\\Local\\Programs\\Python\\Python310\\lib\\site-packages\\pyspark\\sql\\session.py:497\u001b[0m, in \u001b[0;36mSparkSession.Builder.getOrCreate\u001b[1;34m(self)\u001b[0m\n\u001b[0;32m    495\u001b[0m     sparkConf\u001b[38;5;241m.\u001b[39mset(key, value)\n\u001b[0;32m    496\u001b[0m \u001b[38;5;66;03m# This SparkContext may be an existing one.\u001b[39;00m\n\u001b[1;32m--> 497\u001b[0m sc \u001b[38;5;241m=\u001b[39m \u001b[43mSparkContext\u001b[49m\u001b[38;5;241;43m.\u001b[39;49m\u001b[43mgetOrCreate\u001b[49m\u001b[43m(\u001b[49m\u001b[43msparkConf\u001b[49m\u001b[43m)\u001b[49m\n\u001b[0;32m    498\u001b[0m \u001b[38;5;66;03m# Do not update `SparkConf` for existing `SparkContext`, as it's shared\u001b[39;00m\n\u001b[0;32m    499\u001b[0m \u001b[38;5;66;03m# by all sessions.\u001b[39;00m\n\u001b[0;32m    500\u001b[0m session \u001b[38;5;241m=\u001b[39m SparkSession(sc, options\u001b[38;5;241m=\u001b[39m\u001b[38;5;28mself\u001b[39m\u001b[38;5;241m.\u001b[39m_options)\n",
      "File \u001b[1;32mc:\\Users\\Admin\\AppData\\Local\\Programs\\Python\\Python310\\lib\\site-packages\\pyspark\\context.py:515\u001b[0m, in \u001b[0;36mSparkContext.getOrCreate\u001b[1;34m(cls, conf)\u001b[0m\n\u001b[0;32m    513\u001b[0m \u001b[38;5;28;01mwith\u001b[39;00m SparkContext\u001b[38;5;241m.\u001b[39m_lock:\n\u001b[0;32m    514\u001b[0m     \u001b[38;5;28;01mif\u001b[39;00m SparkContext\u001b[38;5;241m.\u001b[39m_active_spark_context \u001b[38;5;129;01mis\u001b[39;00m \u001b[38;5;28;01mNone\u001b[39;00m:\n\u001b[1;32m--> 515\u001b[0m         \u001b[43mSparkContext\u001b[49m\u001b[43m(\u001b[49m\u001b[43mconf\u001b[49m\u001b[38;5;241;43m=\u001b[39;49m\u001b[43mconf\u001b[49m\u001b[43m \u001b[49m\u001b[38;5;129;43;01mor\u001b[39;49;00m\u001b[43m \u001b[49m\u001b[43mSparkConf\u001b[49m\u001b[43m(\u001b[49m\u001b[43m)\u001b[49m\u001b[43m)\u001b[49m\n\u001b[0;32m    516\u001b[0m     \u001b[38;5;28;01massert\u001b[39;00m SparkContext\u001b[38;5;241m.\u001b[39m_active_spark_context \u001b[38;5;129;01mis\u001b[39;00m \u001b[38;5;129;01mnot\u001b[39;00m \u001b[38;5;28;01mNone\u001b[39;00m\n\u001b[0;32m    517\u001b[0m     \u001b[38;5;28;01mreturn\u001b[39;00m SparkContext\u001b[38;5;241m.\u001b[39m_active_spark_context\n",
      "File \u001b[1;32mc:\\Users\\Admin\\AppData\\Local\\Programs\\Python\\Python310\\lib\\site-packages\\pyspark\\context.py:201\u001b[0m, in \u001b[0;36mSparkContext.__init__\u001b[1;34m(self, master, appName, sparkHome, pyFiles, environment, batchSize, serializer, conf, gateway, jsc, profiler_cls, udf_profiler_cls, memory_profiler_cls)\u001b[0m\n\u001b[0;32m    195\u001b[0m \u001b[38;5;28;01mif\u001b[39;00m gateway \u001b[38;5;129;01mis\u001b[39;00m \u001b[38;5;129;01mnot\u001b[39;00m \u001b[38;5;28;01mNone\u001b[39;00m \u001b[38;5;129;01mand\u001b[39;00m gateway\u001b[38;5;241m.\u001b[39mgateway_parameters\u001b[38;5;241m.\u001b[39mauth_token \u001b[38;5;129;01mis\u001b[39;00m \u001b[38;5;28;01mNone\u001b[39;00m:\n\u001b[0;32m    196\u001b[0m     \u001b[38;5;28;01mraise\u001b[39;00m \u001b[38;5;167;01mValueError\u001b[39;00m(\n\u001b[0;32m    197\u001b[0m         \u001b[38;5;124m\"\u001b[39m\u001b[38;5;124mYou are trying to pass an insecure Py4j gateway to Spark. This\u001b[39m\u001b[38;5;124m\"\u001b[39m\n\u001b[0;32m    198\u001b[0m         \u001b[38;5;124m\"\u001b[39m\u001b[38;5;124m is not allowed as it is a security risk.\u001b[39m\u001b[38;5;124m\"\u001b[39m\n\u001b[0;32m    199\u001b[0m     )\n\u001b[1;32m--> 201\u001b[0m \u001b[43mSparkContext\u001b[49m\u001b[38;5;241;43m.\u001b[39;49m\u001b[43m_ensure_initialized\u001b[49m\u001b[43m(\u001b[49m\u001b[38;5;28;43mself\u001b[39;49m\u001b[43m,\u001b[49m\u001b[43m \u001b[49m\u001b[43mgateway\u001b[49m\u001b[38;5;241;43m=\u001b[39;49m\u001b[43mgateway\u001b[49m\u001b[43m,\u001b[49m\u001b[43m \u001b[49m\u001b[43mconf\u001b[49m\u001b[38;5;241;43m=\u001b[39;49m\u001b[43mconf\u001b[49m\u001b[43m)\u001b[49m\n\u001b[0;32m    202\u001b[0m \u001b[38;5;28;01mtry\u001b[39;00m:\n\u001b[0;32m    203\u001b[0m     \u001b[38;5;28mself\u001b[39m\u001b[38;5;241m.\u001b[39m_do_init(\n\u001b[0;32m    204\u001b[0m         master,\n\u001b[0;32m    205\u001b[0m         appName,\n\u001b[1;32m   (...)\u001b[0m\n\u001b[0;32m    215\u001b[0m         memory_profiler_cls,\n\u001b[0;32m    216\u001b[0m     )\n",
      "File \u001b[1;32mc:\\Users\\Admin\\AppData\\Local\\Programs\\Python\\Python310\\lib\\site-packages\\pyspark\\context.py:436\u001b[0m, in \u001b[0;36mSparkContext._ensure_initialized\u001b[1;34m(cls, instance, gateway, conf)\u001b[0m\n\u001b[0;32m    434\u001b[0m \u001b[38;5;28;01mwith\u001b[39;00m SparkContext\u001b[38;5;241m.\u001b[39m_lock:\n\u001b[0;32m    435\u001b[0m     \u001b[38;5;28;01mif\u001b[39;00m \u001b[38;5;129;01mnot\u001b[39;00m SparkContext\u001b[38;5;241m.\u001b[39m_gateway:\n\u001b[1;32m--> 436\u001b[0m         SparkContext\u001b[38;5;241m.\u001b[39m_gateway \u001b[38;5;241m=\u001b[39m gateway \u001b[38;5;129;01mor\u001b[39;00m \u001b[43mlaunch_gateway\u001b[49m\u001b[43m(\u001b[49m\u001b[43mconf\u001b[49m\u001b[43m)\u001b[49m\n\u001b[0;32m    437\u001b[0m         SparkContext\u001b[38;5;241m.\u001b[39m_jvm \u001b[38;5;241m=\u001b[39m SparkContext\u001b[38;5;241m.\u001b[39m_gateway\u001b[38;5;241m.\u001b[39mjvm\n\u001b[0;32m    439\u001b[0m     \u001b[38;5;28;01mif\u001b[39;00m instance:\n",
      "File \u001b[1;32mc:\\Users\\Admin\\AppData\\Local\\Programs\\Python\\Python310\\lib\\site-packages\\pyspark\\java_gateway.py:107\u001b[0m, in \u001b[0;36mlaunch_gateway\u001b[1;34m(conf, popen_kwargs)\u001b[0m\n\u001b[0;32m    104\u001b[0m     time\u001b[38;5;241m.\u001b[39msleep(\u001b[38;5;241m0.1\u001b[39m)\n\u001b[0;32m    106\u001b[0m \u001b[38;5;28;01mif\u001b[39;00m \u001b[38;5;129;01mnot\u001b[39;00m os\u001b[38;5;241m.\u001b[39mpath\u001b[38;5;241m.\u001b[39misfile(conn_info_file):\n\u001b[1;32m--> 107\u001b[0m     \u001b[38;5;28;01mraise\u001b[39;00m PySparkRuntimeError(\n\u001b[0;32m    108\u001b[0m         error_class\u001b[38;5;241m=\u001b[39m\u001b[38;5;124m\"\u001b[39m\u001b[38;5;124mJAVA_GATEWAY_EXITED\u001b[39m\u001b[38;5;124m\"\u001b[39m,\n\u001b[0;32m    109\u001b[0m         message_parameters\u001b[38;5;241m=\u001b[39m{},\n\u001b[0;32m    110\u001b[0m     )\n\u001b[0;32m    112\u001b[0m \u001b[38;5;28;01mwith\u001b[39;00m \u001b[38;5;28mopen\u001b[39m(conn_info_file, \u001b[38;5;124m\"\u001b[39m\u001b[38;5;124mrb\u001b[39m\u001b[38;5;124m\"\u001b[39m) \u001b[38;5;28;01mas\u001b[39;00m info:\n\u001b[0;32m    113\u001b[0m     gateway_port \u001b[38;5;241m=\u001b[39m read_int(info)\n",
      "\u001b[1;31mPySparkRuntimeError\u001b[0m: [JAVA_GATEWAY_EXITED] Java gateway process exited before sending its port number."
     ]
    }
   ],
   "source": [
    "from pyspark.sql import SparkSession\n",
    "\n",
    "# Create SparkSession\n",
    "spark = SparkSession.builder.master(\"local\").appName(\"Word Count\").config(\"spark.some.config.option\", \"some-value\").getOrCreate()\n",
    "\n",
    "# Sample data (you can also read from a CSV or database)\n",
    "data = [\n",
    "    (\"Alice\", 30),\n",
    "    (\"Bob\", 25),\n",
    "    (\"Charlie\", 35),\n",
    "    (\"David\", 40)\n",
    "]\n",
    "\n",
    "# Define schema\n",
    "columns = [\"Name\", \"Age\"]\n",
    "\n",
    "# Create DataFrame\n",
    "df = spark.createDataFrame(data, schema=columns)\n",
    "\n",
    "# Show the original DataFrame\n",
    "print(\"Original Data:\")\n",
    "df.show()\n",
    "\n",
    "# Filter rows where Age > 30\n",
    "filtered_df = df.filter(df.Age > 30)\n",
    "\n",
    "# Show filtered results\n",
    "print(\"Filtered Data (Age > 30):\")\n",
    "filtered_df.show()\n",
    "\n",
    "# Add new column with age group\n",
    "df_with_group = df.withColumn(\n",
    "    \"AgeGroup\",\n",
    "    df.Age > 30\n",
    ")\n",
    "\n",
    "# Show updated DataFrame\n",
    "print(\"Data with AgeGroup Column:\")\n",
    "df_with_group.show()\n",
    "\n",
    "# Stop SparkSession\n",
    "spark.stop()\n"
   ]
  },
  {
   "cell_type": "code",
   "execution_count": null,
   "metadata": {},
   "outputs": [
    {
     "name": "stdout",
     "output_type": "stream",
     "text": [
      "Enterred no is 2\n",
      "2 not a prime no\n"
     ]
    }
   ],
   "source": [
    "n = int(input(\"Enter the not to check weather it is prime no or not\"))\n",
    "\n",
    "print(f'Enterred no is {n}')\n",
    "\n",
    "is_prime = False\n",
    "if n == 1:\n",
    "    print(f'{n} is not prime no')\n",
    "    \n",
    "elif n > 1:\n",
    "    for i in range(2,n):\n",
    "        if n%i == 0:\n",
    "            is_prime = True\n",
    "            break\n",
    "\n",
    "if is_prime:\n",
    "    print(f'{n} is prime number')\n",
    "else : \n",
    "    print(f'{n} not a prime no')"
   ]
  },
  {
   "cell_type": "code",
   "execution_count": null,
   "metadata": {},
   "outputs": [
    {
     "name": "stdout",
     "output_type": "stream",
     "text": [
      "0\n",
      "1\n",
      "1\n",
      "2\n",
      "3\n",
      "5\n",
      "8\n",
      "13\n",
      "21\n",
      "34\n"
     ]
    }
   ],
   "source": [
    "n = 10\n",
    "\n",
    "n0 = 0\n",
    "n1 = 1\n",
    "\n",
    "if n > 1:\n",
    "\n",
    "    print(n0)\n",
    "    print(n1)\n",
    "    for i in range(1,n-1):\n",
    "        sum = n0 + n1\n",
    "        n0 = n1\n",
    "        n1=sum\n",
    "        print(sum)        "
   ]
  },
  {
   "cell_type": "code",
   "execution_count": null,
   "metadata": {},
   "outputs": [
    {
     "name": "stdout",
     "output_type": "stream",
     "text": [
      "Enter your choice : 1\n",
      "Mutlication of 22 and 12 : 264\n",
      "Do you want to continue (yes/no)\n",
      "yes\n",
      "Enter your choice : 2\n",
      "sum of 23 and 23 : 46\n",
      "Do you want to continue (yes/no)\n",
      "no\n",
      "Enter your choice : 2\n",
      "sum of 4 and 4 : 8\n",
      "Do you want to continue (yes/no)\n",
      "NO\n",
      "Exiting from program\n"
     ]
    }
   ],
   "source": [
    "def multiplication(x, y):\n",
    "    multiplication = x*y\n",
    "    return multiplication\n",
    "\n",
    "def add(x,y):\n",
    "    sum = x+y\n",
    "    return sum\n",
    "\n",
    "\n",
    "while True:\n",
    "    choice = input(\"Enter your choice:\")\n",
    "    print(f\"Enter your choice : {choice}\")\n",
    "    if choice in ('1','2'):\n",
    "        a = int(input(\"Enter the first no\"))\n",
    "        b = int(input(\"Enter the second no\"))\n",
    "    else :\n",
    "        print(\"Pls Enter the valid input\")\n",
    "        continue\n",
    "\n",
    "    if choice == '1':\n",
    "        multi = multiplication(a,b)\n",
    "        print(f'Mutlication of {a} and {b} : {multi}')\n",
    "    elif choice == '2':\n",
    "        sum = add(a,b)\n",
    "        print(f'sum of {a} and {b} : {sum}')\n",
    "\n",
    "    print(\"Do you want to continue (YES/NO\")\")\n",
    "    choice = input(\"Enter the choice\")\n",
    "    print(choice)\n",
    "    if choice == 'NO':\n",
    "        print(\"Exiting from program\")\n",
    "        break\n",
    "\n",
    "# print(\"happ\")"
   ]
  },
  {
   "cell_type": "code",
   "execution_count": null,
   "metadata": {},
   "outputs": [
    {
     "name": "stdout",
     "output_type": "stream",
     "text": [
      "[3, 4, 5, 1, 2]\n"
     ]
    }
   ],
   "source": [
    "#array rotation \n",
    "# rotate by 2 [3,4,5,1,2]\n",
    "\n",
    "wave = int(ino)\n",
    "rotate = 2\n",
    "rotate_arr = []\n",
    "for i in range(rotate,len(wave)):\n",
    "    ele = wave[i]\n",
    "    rotate_arr.append(ele)\n",
    "\n",
    "for i in range(rotate):\n",
    "    ele = wave[i]\n",
    "    rotate_arr.append(ele)\n",
    "    \n",
    "\n",
    "print(rotate_arr)\n",
    "\n",
    "\n"
   ]
  },
  {
   "cell_type": "code",
   "execution_count": null,
   "metadata": {},
   "outputs": [
    {
     "name": "stdout",
     "output_type": "stream",
     "text": [
      "[4, 5, 1, 2, 3]\n"
     ]
    }
   ],
   "source": [
    "arr = [1, 2, 3, 4, 5]\n",
    "k = 2\n",
    "n = len(arr)\n",
    "\n",
    "rotated_arr = [0] * n\n",
    "for i in range(n):\n",
    "    rotated_arr[(i + k) % n] = arr[i]\n",
    "\n",
    "print(rotated_arr)\n"
   ]
  },
  {
   "cell_type": "code",
   "execution_count": 12,
   "metadata": {},
   "outputs": [
    {
     "name": "stdout",
     "output_type": "stream",
     "text": [
      "No of elemelnt in list :  3\n",
      "Original array : [23, 43, 55]\n",
      "Rotate index :  2\n",
      "Initial Rotated array values : [0, 0, 0]\n"
     ]
    },
    {
     "ename": "TypeError",
     "evalue": "unsupported operand type(s) for +: 'int' and 'set'",
     "output_type": "error",
     "traceback": [
      "\u001b[1;31m---------------------------------------------------------------------------\u001b[0m",
      "\u001b[1;31mTypeError\u001b[0m                                 Traceback (most recent call last)",
      "Cell \u001b[1;32mIn[12], line 21\u001b[0m\n\u001b[0;32m     18\u001b[0m \u001b[38;5;28mprint\u001b[39m(\u001b[38;5;124mf\u001b[39m\u001b[38;5;124m\"\u001b[39m\u001b[38;5;124mInitial Rotated array values : \u001b[39m\u001b[38;5;132;01m{\u001b[39;00mrotated_arr\u001b[38;5;132;01m}\u001b[39;00m\u001b[38;5;124m\"\u001b[39m)\n\u001b[0;32m     20\u001b[0m \u001b[38;5;28;01mfor\u001b[39;00m i \u001b[38;5;129;01min\u001b[39;00m \u001b[38;5;28mrange\u001b[39m(n):\n\u001b[1;32m---> 21\u001b[0m     rotated_arr[i] \u001b[38;5;241m=\u001b[39m Ori_array[(\u001b[43mi\u001b[49m\u001b[38;5;241;43m+\u001b[39;49m\u001b[43m{\u001b[49m\u001b[43mrotate_ind\u001b[49m\u001b[43m}\u001b[49m)\u001b[38;5;241m%\u001b[39mn]\n\u001b[0;32m     23\u001b[0m \u001b[38;5;28mprint\u001b[39m(\u001b[38;5;124mf\u001b[39m\u001b[38;5;124m\"\u001b[39m\u001b[38;5;124mRotated array : \u001b[39m\u001b[38;5;132;01m{\u001b[39;00mrotated_arr\u001b[38;5;132;01m}\u001b[39;00m\u001b[38;5;124m\"\u001b[39m)\n",
      "\u001b[1;31mTypeError\u001b[0m: unsupported operand type(s) for +: 'int' and 'set'"
     ]
    }
   ],
   "source": [
    "#rotate array elemtnt by index\n",
    "n = int(input(\"Enter the no of elemrnt in list\"))\n",
    "print(\"No of elemelnt in list : \",n)\n",
    "\n",
    "Ori_array = []\n",
    "i = 0\n",
    "while i < n:\n",
    "    element = int(input(\"Enter the nos in array\"))\n",
    "    Ori_array.append(element)\n",
    "    i = i + 1\n",
    "\n",
    "print(f\"Original array : {Ori_array}\")\n",
    "\n",
    "rotate_ind = int(input(\"Enter the index to be rotate\"))\n",
    "print(\"Rotate index : \",rotate_ind)\n",
    "\n",
    "rotated_arr = [0] * n\n",
    "print(f\"Initial Rotated array values : {rotated_arr}\")\n",
    "\n",
    "for i in range(n):\n",
    "    rotated_arr[i] = Ori_array[(i+{rotate_ind})%n]\n",
    "\n",
    "print(f\"Rotated array : {rotated_arr}\")\n",
    "\n"
   ]
  },
  {
   "cell_type": "code",
   "execution_count": 13,
   "metadata": {},
   "outputs": [
    {
     "name": "stdout",
     "output_type": "stream",
     "text": [
      "first_part : [1, 2, 3]\n",
      "second_part : [4, 5]\n",
      "[4, 5, 1, 2, 3]\n"
     ]
    }
   ],
   "source": [
    "def slit_add(n, k):\n",
    "    if k <= 0 or k >= len(n):\n",
    "        return n\n",
    "    \n",
    "    first_part = n[:k]\n",
    "    print(f'first_part : {first_part}')\n",
    "    second_part = n[k:]\n",
    "    print(f'second_part : {second_part}')\n",
    "    result = second_part + first_part\n",
    "    return result\n",
    "\n",
    "n = [1,2,3,4,5]\n",
    "k = 3\n",
    "result = slit_add(n, k)\n",
    "print(result)"
   ]
  },
  {
   "cell_type": "code",
   "execution_count": 14,
   "metadata": {},
   "outputs": [
    {
     "name": "stdout",
     "output_type": "stream",
     "text": [
      "by\n",
      "hi\n",
      "hi\n",
      "by\n",
      "array [5, 2, 3, 7, 5] is monolitcic True\n"
     ]
    }
   ],
   "source": [
    "#given array is monotoninc or not \n",
    "\n",
    "n = [5,2,3,7,5]\n",
    "\n",
    "for i in range(1, len(n)):\n",
    "    if n[i] >= n[i-1]:\n",
    "        print('hi')\n",
    "        is_monotic = True\n",
    "    elif n[i] <= n[i-1]:\n",
    "        print('by')\n",
    "        is_monotic = True\n",
    "    else:\n",
    "        print(ju)\n",
    "        is_monotic = False\n",
    "\n",
    "if is_monotic:\n",
    "    print(f'array {n} is monolitcic {is_monotic}')"
   ]
  },
  {
   "cell_type": "markdown",
   "metadata": {},
   "source": []
  },
  {
   "cell_type": "code",
   "execution_count": 32,
   "metadata": {},
   "outputs": [
    {
     "name": "stdout",
     "output_type": "stream",
     "text": [
      "2 and 1\n",
      "hi\n",
      "False\n",
      "2 and 2\n",
      "0 and 2\n",
      "bye\n",
      "False and False\n",
      "arr1 is monotonic: False\n"
     ]
    }
   ],
   "source": [
    "def is_monotonic(arr):\n",
    "    increasing = decreasing = True\n",
    "    for i in range(1, len(arr)):\n",
    "        print(f'{arr[i]} and {arr[i-1]}')\n",
    "        if arr[i] > arr[i - 1]:\n",
    "            print('hi')\n",
    "            decreasing = False\n",
    "            print(f'{decreasing}')\n",
    "\n",
    "        elif arr[i] < arr[i - 1]:\n",
    "            print('bye')\n",
    "            increasing = False\n",
    "    print(f'{increasing} and {decreasing}')\n",
    "    return increasing or decreasing\n",
    "# Test the function\n",
    "arr1 = [1, 2, 2, 0] # Monotonic (non-decreasing)\n",
    "arr2 = [3, 2, 1] # Monotonic (non-increasing)\n",
    "arr3 = [1, 3, 2, 4] # Not monotonic\n",
    "print(\"arr1 is monotonic:\", is_monotonic(arr1))\n"
   ]
  },
  {
   "cell_type": "code",
   "execution_count": 28,
   "metadata": {},
   "outputs": [
    {
     "data": {
      "text/plain": [
       "False"
      ]
     },
     "execution_count": 28,
     "metadata": {},
     "output_type": "execute_result"
    }
   ],
   "source": [
    "2>2"
   ]
  },
  {
   "cell_type": "code",
   "execution_count": 33,
   "metadata": {},
   "outputs": [
    {
     "name": "stdout",
     "output_type": "stream",
     "text": [
      "more Punit\n"
     ]
    }
   ],
   "source": [
    "n = 'Punit more'\n",
    "\n",
    "split_string = n.split()\n",
    "reversed_str = reversed(split_string)\n",
    "\n",
    "join_revered = ' '.join(reversed_str)\n",
    "\n",
    "print(join_revered)"
   ]
  },
  {
   "cell_type": "code",
   "execution_count": 55,
   "metadata": {},
   "outputs": [
    {
     "name": "stdout",
     "output_type": "stream",
     "text": [
      "erom tinup\n"
     ]
    }
   ],
   "source": [
    "n = \"punit more\"\n",
    "\n",
    "reserse_str = \"\"\n",
    "\n",
    "for i in range(len(n)-1,-1,-1):\n",
    "    reserse_str = reserse_str + n[i]\n",
    "print(reserse_str)\n"
   ]
  },
  {
   "cell_type": "code",
   "execution_count": 85,
   "metadata": {},
   "outputs": [
    {
     "name": "stdout",
     "output_type": "stream",
     "text": [
      "Original list : [4, 5, 4, 1, 2, 2, 3, 1]\n",
      "unique_lst : [4, 5, 1, 2, 3]\n"
     ]
    }
   ],
   "source": [
    "# 🔍4. Write a function that removes duplicates from a list while maintaining the original order.\n",
    "\n",
    "# Input : nums = [4, 5, 4, 1, 2, 2, 3, 1]\n",
    "# Expected Output = [4, 5, 1, 2, 3]\n",
    "nums = [4, 5, 4, 1, 2, 2, 3, 1]\n",
    "\n",
    "print(f\"Original list : {nums}\")\n",
    "\n",
    "unique_lst  = []\n",
    "\n",
    "for i in nums:\n",
    "    if i not in unique_lst:\n",
    "        unique_lst.append(i)\n",
    "\n",
    "print(f\"unique_lst : {unique_lst}\")\n"
   ]
  },
  {
   "cell_type": "code",
   "execution_count": 26,
   "metadata": {},
   "outputs": [
    {
     "name": "stdout",
     "output_type": "stream",
     "text": [
      "largest : 45\n",
      "LCM of 45 and 43 : 1935\n"
     ]
    }
   ],
   "source": [
    "# lcm of number\n",
    "\n",
    "first = 45\n",
    "second = 43\n",
    "\n",
    "if first > second:\n",
    "    largest = first\n",
    "else : largest = second\n",
    "print(f\"largest : {largest}\")\n",
    "\n",
    "while True:\n",
    "    if largest%first == 0 and largest%second==0:\n",
    "        LCM = largest\n",
    "        break\n",
    "    largest = largest + 1\n",
    "\n",
    "print(f\"LCM of {first} and {second} : {LCM}\")\n",
    "\n"
   ]
  },
  {
   "cell_type": "code",
   "execution_count": null,
   "metadata": {},
   "outputs": [
    {
     "name": "stdout",
     "output_type": "stream",
     "text": [
      "GCD of number 66 and 54 : 6\n"
     ]
    }
   ],
   "source": [
    "#gcd calulator \n",
    "\n",
    "element = 66\n",
    "element1  = 54\n",
    "\n",
    "if element > element1:\n",
    "    least_number = element\n",
    "else : least_number = element1\n",
    "\n",
    "for i in range(1, least_number+1):\n",
    "    if element % i == 0 and element1 % i == 0:\n",
    "        GCD = i\n",
    "\n",
    "print(f'GCD of number {element} and {element1} : {GCD}')\n"
   ]
  },
  {
   "cell_type": "code",
   "execution_count": 19,
   "metadata": {},
   "outputs": [
    {
     "name": "stdout",
     "output_type": "stream",
     "text": [
      "itnup si sihT\n",
      "joned strin : itnup si sihT\n",
      "13\n",
      "itnup si sihT"
     ]
    }
   ],
   "source": [
    "\n",
    "n = 'This is punti'\n",
    "\n",
    "resesed_str = n[::-1]\n",
    "print(resesed_str)\n",
    "\n",
    "\n",
    "# new_list = n.split()\n",
    "# print(new_list)\n",
    "\n",
    "st = list(reversed(n))\n",
    "\n",
    "new = ''.join(st)\n",
    "# new_st = ' '.join(st)\n",
    "print(f'joned strin : {new}')\n",
    "\n",
    "print(len(n))\n",
    "new = ''\n",
    "for i in range(len(n)-1,-1,-1):\n",
    "    print(n[i], end='')\n",
    "\n",
    "\n"
   ]
  },
  {
   "cell_type": "code",
   "execution_count": 22,
   "metadata": {},
   "outputs": [
    {
     "name": "stdout",
     "output_type": "stream",
     "text": [
      "new_list : [3, 4, 5, 6]\n",
      "expected list : [4, 6, 3, 5]\n"
     ]
    }
   ],
   "source": [
    "num1 = [4,6,3,5,4,5,3,3,6,6]\n",
    "# expected = [4,6,3,5]\n",
    "\n",
    "new = []\n",
    "\n",
    "new_lst = list(set(num1))\n",
    "print(f'new_list : {new_lst}')\n",
    "\n",
    "for i in num1:\n",
    "    if i not in new:\n",
    "        new.append(i)\n",
    "\n",
    "print(f'expected list : {new}')"
   ]
  },
  {
   "cell_type": "code",
   "execution_count": 27,
   "metadata": {},
   "outputs": [
    {
     "name": "stdout",
     "output_type": "stream",
     "text": [
      "[4, 3, 5, 3, 2]\n",
      "[0, 0, 0, 0, 0]\n",
      "[3, 2, 4, 3, 5]\n"
     ]
    }
   ],
   "source": [
    "n = [4,3,5,3,2]\n",
    "print(n)\n",
    "new = [0] * len(n)\n",
    "print(new)\n",
    "rotate = 3\n",
    "length = len(n)\n",
    "for i in range(len(n)):\n",
    "    new[i] = n[(i+rotate) % length]\n",
    "\n",
    "print(new)"
   ]
  },
  {
   "cell_type": "code",
   "execution_count": 35,
   "metadata": {},
   "outputs": [
    {
     "name": "stdout",
     "output_type": "stream",
     "text": [
      "it's prime no\n"
     ]
    }
   ],
   "source": [
    "n = 12\n",
    "\n",
    "is_prime = False\n",
    "\n",
    "for i in range(2, n-1):\n",
    "    if n % i == 0:\n",
    "        is_prime = True\n",
    "\n",
    "\n",
    "\n",
    "if is_prime:\n",
    "    print(\"it's prime no\")\n",
    "else : print(\"not a prime no\")"
   ]
  },
  {
   "cell_type": "code",
   "execution_count": 37,
   "metadata": {},
   "outputs": [
    {
     "name": "stdout",
     "output_type": "stream",
     "text": [
      "16\n"
     ]
    }
   ],
   "source": [
    "# create a lamba function which calculate the square of number \n",
    "\n",
    "square  = lambda x : x ** 2\n",
    "\n",
    "print(square(4))"
   ]
  },
  {
   "cell_type": "code",
   "execution_count": null,
   "metadata": {},
   "outputs": [
    {
     "name": "stdout",
     "output_type": "stream",
     "text": [
      "{'apple': 3, 'banana': 2, 'orange': 1}\n"
     ]
    }
   ],
   "source": [
    "my_list = ['apple', 'banana', 'apple', 'orange', 'banana', 'apple']\n",
    "count = {}\n",
    "\n",
    "for item in my_list:\n",
    "    if item in count:\n",
    "        count[item] += 1\n",
    "    else:\n",
    "        count[item] = 1\n",
    "\n",
    "print(count)\n",
    "\n"
   ]
  },
  {
   "cell_type": "code",
   "execution_count": 41,
   "metadata": {},
   "outputs": [
    {
     "name": "stdout",
     "output_type": "stream",
     "text": [
      "Counter({1: 2, 2: 2, 3: 2, 4: 2, 5: 2})\n"
     ]
    }
   ],
   "source": [
    "my_list = [1, 2, 3, 4, 1, 2, 3, 5, 4, 5]\n",
    "from collections import Counter\n",
    "\n",
    "new = Counter(my_list)\n",
    "print(new)"
   ]
  },
  {
   "cell_type": "code",
   "execution_count": 18,
   "metadata": {},
   "outputs": [
    {
     "name": "stdout",
     "output_type": "stream",
     "text": [
      "s\n",
      "rs\n",
      "urs\n",
      "jurs\n",
      "ijurs\n",
      "tijurs\n",
      "htijurs\n",
      "htijurs\n",
      "ji\n",
      "htijurs\n"
     ]
    }
   ],
   "source": [
    "s = 'srujith'\n",
    "reversed_s = ''\n",
    "for char in s:\n",
    "    reversed_s = char + reversed_s\n",
    "    print(reversed_s)\n",
    "print(reversed_s)\n",
    "\n",
    "print('ji')\n",
    "print(s[::-1])"
   ]
  },
  {
   "cell_type": "code",
   "execution_count": 2,
   "metadata": {},
   "outputs": [
    {
     "name": "stdout",
     "output_type": "stream",
     "text": [
      "Factorial of 5 is 120\n"
     ]
    }
   ],
   "source": [
    "def factorial(n):\n",
    "    if n == 0 or n == 1:\n",
    "        return 1  # Base case\n",
    "    else:\n",
    "        return n * factorial(n - 1)  # Recursive case\n",
    "\n",
    "# Example usage\n",
    "num = int(input(\"Enter a number: \"))\n",
    "print(f\"Factorial of {num} is {factorial(num)}\")\n"
   ]
  },
  {
   "cell_type": "code",
   "execution_count": 5,
   "metadata": {},
   "outputs": [
    {
     "name": "stdout",
     "output_type": "stream",
     "text": [
      "Factorial of 2 is 2\n"
     ]
    }
   ],
   "source": [
    "def fact(n):\n",
    "    if n == 1 or n == 0:\n",
    "        return 1\n",
    "\n",
    "    else :\n",
    "        return n * fact(n-1)\n",
    "\n",
    "num = int(input(\"Enter the number : \"))\n",
    "print(f\"Factorial of {num} is {fact(num)}\""
   ]
  },
  {
   "cell_type": "code",
   "execution_count": 4,
   "metadata": {},
   "outputs": [
    {
     "name": "stdout",
     "output_type": "stream",
     "text": [
      "rs si sihT\n",
      "rs si sihT"
     ]
    }
   ],
   "source": [
    "str = 'This is sr'\n",
    "\n",
    "reversed_str = str[::-1]\n",
    "print(reversed_str)\n",
    "\n",
    "for i in range(len(str)-1,-1,-1):\n",
    "    print(str[i], end='')\n",
    "\n",
    "\n"
   ]
  },
  {
   "cell_type": "code",
   "execution_count": 1,
   "metadata": {},
   "outputs": [
    {
     "name": "stdout",
     "output_type": "stream",
     "text": [
      "{'r': 2, 'a': 1, 'n': 1, 'd': 1, 'o': 1, 'm': 1, 't': 1, 'e': 2, 's': 1}\n"
     ]
    }
   ],
   "source": [
    "# Write a program in python to identify occurence of each string\n",
    "# Input: 'RandomTrees'\n",
    "# Output: {'r':1,'a':1,'n':1,'d':1,'o':1,'m':1,'t':1,'r':1,'e':2,'s':1}\n",
    "input_str = 'RandomTrees'\n",
    "\n",
    "# Convert to lowercase to make the count case-insensitive (optional)\n",
    "input_str = input_str.lower()\n",
    "\n",
    "char_count = {}\n",
    "for char in input_str:\n",
    "    if char in char_count:\n",
    "        char_count[char] += 1\n",
    "    else:\n",
    "        char_count[char] = 1\n",
    "\n",
    "print(char_count)\n"
   ]
  },
  {
   "cell_type": "code",
   "execution_count": 22,
   "metadata": {},
   "outputs": [
    {
     "ename": "SyntaxError",
     "evalue": "invalid syntax. Perhaps you forgot a comma? (3095813787.py, line 10)",
     "output_type": "error",
     "traceback": [
      "\u001b[1;36m  Cell \u001b[1;32mIn[22], line 10\u001b[1;36m\u001b[0m\n\u001b[1;33m    print(\"f\"bucket create name {new_bucket} location {location})\u001b[0m\n\u001b[1;37m          ^\u001b[0m\n\u001b[1;31mSyntaxError\u001b[0m\u001b[1;31m:\u001b[0m invalid syntax. Perhaps you forgot a comma?\n"
     ]
    }
   ],
   "source": [
    "from google.cloud import storage\n",
    "\n",
    "def create_gcs_bucket(bucket_name, project_id,location = \"us-east-central\"):\n",
    "    #create client object\n",
    "    client = storage.Client(project = project_id)\n",
    "    #create bucket object\n",
    "    bucket = client.bucket(bucket_name)\n",
    "\n",
    "    new_bucket = client.create_bucket(bucket, location=location)\n",
    "    print(\"f\"bucket create name {new_bucket} location {location})\n",
    "\n",
    "create_gcs_bucket(\"bucket_name\",\"project_id\",\"location\")"
   ]
  },
  {
   "cell_type": "markdown",
   "metadata": {},
   "source": []
  },
  {
   "cell_type": "code",
   "execution_count": 4,
   "metadata": {},
   "outputs": [
    {
     "ename": "IndentationError",
     "evalue": "expected an indented block after 'with' statement on line 15 (3041013809.py, line 22)",
     "output_type": "error",
     "traceback": [
      "\u001b[1;36m  Cell \u001b[1;32mIn[4], line 22\u001b[1;36m\u001b[0m\n\u001b[1;33m    New_task = PythonOperator (\u001b[0m\n\u001b[1;37m    ^\u001b[0m\n\u001b[1;31mIndentationError\u001b[0m\u001b[1;31m:\u001b[0m expected an indented block after 'with' statement on line 15\n"
     ]
    }
   ],
   "source": [
    "from airflow import DAG\n",
    "from airflow.operators.python import PythonOperator\n",
    "from airflow.operators.bash import BashOperator\n",
    "from datetime import datetime, timedelta\n",
    "\n",
    "#default argument \n",
    "default_args = {\n",
    "    \"owner\" : \"airflow\",\n",
    "    \"start_date\" : datetime(2025, 4,25),\n",
    "    \"retries\" : 3,\n",
    "    \"retry_delay\" : timedelta(minutes=5)\n",
    "}\n",
    "\n",
    "#define dag\n",
    "with DAG (\n",
    "    dag_id = 'Test_dag',\n",
    "    description = 'testing dag',\n",
    "    default_args = default_args,\n",
    "    schedule_interval = '@daily',\n",
    ") as dag :\n",
    "\n",
    "New_task = PythonOperator (\n",
    "    task_id = 'task1',\n",
    "    python_callable = test_task,\n",
    "    param = {}\n",
    ")\n",
    "New_task1 = BashOperator (\n",
    "    task_id = 'task2',\n",
    "    bash_command = 'echo \"hello\"'\n",
    "\n",
    ")\n",
    "New_task >> New_task1\n"
   ]
  },
  {
   "cell_type": "code",
   "execution_count": 13,
   "metadata": {},
   "outputs": [
    {
     "name": "stdout",
     "output_type": "stream",
     "text": [
      "p\n",
      " u\n",
      "  n\n",
      "   i\n",
      "    t\n",
      "    t\n",
      "   i\n",
      "  n\n",
      " u\n",
      "p\n"
     ]
    }
   ],
   "source": [
    "text = \"punit\"\n",
    "for i in range(len(text)):\n",
    "    print(\" \" * i + text[i])\n",
    "for i in range(len(text)-1,-1,-1):\n",
    "    print(\" \" * i + text[i])\n",
    "\n",
    "\n",
    "\n",
    "\n"
   ]
  },
  {
   "cell_type": "code",
   "execution_count": 6,
   "metadata": {},
   "outputs": [
    {
     "name": "stdout",
     "output_type": "stream",
     "text": [
      "punit ** dorem \n"
     ]
    }
   ],
   "source": [
    "print(\"punit ** dorem \")"
   ]
  },
  {
   "cell_type": "code",
   "execution_count": 14,
   "metadata": {},
   "outputs": [
    {
     "name": "stdout",
     "output_type": "stream",
     "text": [
      "hello\n"
     ]
    }
   ],
   "source": [
    "print(\"hello\")"
   ]
  },
  {
   "cell_type": "code",
   "execution_count": 3,
   "metadata": {},
   "outputs": [
    {
     "name": "stdout",
     "output_type": "stream",
     "text": [
      "prime number list Bet 20 & 40 : [23, 29]\n",
      "Non prime number list Bet 20 & 40 : [20, 21, 22, 24, 25, 26, 27, 28]\n"
     ]
    }
   ],
   "source": [
    "#print all the prime number from 20 to 50\n",
    "def is_prime(n):\n",
    "    if n == 1:\n",
    "        print(f'{n} is not prime number')\n",
    "        return False\n",
    "    else:\n",
    "        if n>1:\n",
    "            for i in range(2,n):\n",
    "                if n % i == 0:\n",
    "                    return False\n",
    "            return True\n",
    "\n",
    "\n",
    "prime_list = []\n",
    "non_prime_list = []\n",
    "for num in range(20, 30):\n",
    "    if is_prime(num):\n",
    "        prime_list.append(num)\n",
    "    else :\n",
    "        non_prime_list.append(num)\n",
    "\n",
    "print(f\"prime number list Bet 20 & 40 : {prime_list}\")\n",
    "print(f\"Non prime number list Bet 20 & 40 : {non_prime_list}\")"
   ]
  },
  {
   "cell_type": "code",
   "execution_count": null,
   "metadata": {},
   "outputs": [
    {
     "name": "stdout",
     "output_type": "stream",
     "text": [
      "2\n",
      "5\n",
      "10\n",
      "17\n",
      "26\n",
      "37\n",
      "50\n",
      "65\n",
      "82\n"
     ]
    }
   ],
   "source": [
    "for i in range(1,10):\n",
    "    print(i*i+1)\n",
    "    print()\n",
    "    "
   ]
  },
  {
   "cell_type": "code",
   "execution_count": null,
   "metadata": {},
   "outputs": [
    {
     "name": "stdout",
     "output_type": "stream",
     "text": [
      "hello.py\n"
     ]
    }
   ],
   "source": [
    "input_str = \"a3b2cd4\"\n",
    "\n",
    "out_str = \"\"\n",
    "cntr = 0\n",
    "prev_char = input_str[0]\n",
    "while cntr < len(input_str):    \n",
    "    char = input_str[cntr]\n",
    "    cntr += 1\n",
    "    if char.isnumeric():\n",
    "        out_str += prev_char *int(char)\n",
    "    elif prev_char != char:\n",
    "        out_str += prev_char\n",
    "    prev_char = char\n",
    "\n",
    "new_out_str = \"\"   \n",
    "for char in out_str:\n",
    "    if not char.isnumeric():\n",
    "        new_out_str += char\n",
    "    \n",
    "\n",
    "print(new_out_str)"
   ]
  }
 ],
 "metadata": {
  "kernelspec": {
   "display_name": "myenv",
   "language": "python",
   "name": "python3"
  },
  "language_info": {
   "codemirror_mode": {
    "name": "ipython",
    "version": 3
   },
   "file_extension": ".py",
   "mimetype": "text/x-python",
   "name": "python",
   "nbconvert_exporter": "python",
   "pygments_lexer": "ipython3",
   "version": "3.11.9"
  }
 },
 "nbformat": 4,
 "nbformat_minor": 2
}
